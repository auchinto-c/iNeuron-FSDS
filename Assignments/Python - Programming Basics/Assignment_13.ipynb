{
 "cells": [
  {
   "cell_type": "markdown",
   "id": "f12f8998",
   "metadata": {},
   "source": [
    "# Assignment 13"
   ]
  },
  {
   "cell_type": "markdown",
   "id": "2787e12b",
   "metadata": {},
   "source": [
    "<pre>Question 1:\n",
    "\n",
    "Write a program that calculates and prints the value according to the given formula:\n",
    "\n",
    "Q = Square root of [(2 * C * D)/H]\n",
    "\n",
    "Following are the fixed values of C and H:\n",
    "\n",
    "C is 50. H is 30.\n",
    "\n",
    "D is the variable whose values should be input to your program in a comma-separated sequence.\n",
    "\n",
    "Example\n",
    "\n",
    "Let us assume the following comma separated input sequence is given to the program:\n",
    "\n",
    "100,150,180\n",
    "\n",
    "The output of the program should be:\n",
    "\n",
    "18,22,24\n",
    "</pre>"
   ]
  },
  {
   "cell_type": "code",
   "execution_count": 1,
   "id": "9aac340a",
   "metadata": {},
   "outputs": [],
   "source": [
    "D = [100, 150, 180]\n",
    "C = 50\n",
    "H = 30"
   ]
  },
  {
   "cell_type": "code",
   "execution_count": 7,
   "id": "3412bf53",
   "metadata": {},
   "outputs": [
    {
     "data": {
      "text/plain": [
       "[18, 22, 24]"
      ]
     },
     "execution_count": 7,
     "metadata": {},
     "output_type": "execute_result"
    }
   ],
   "source": [
    "from math import sqrt\n",
    "\n",
    "Q = []\n",
    "for i in D:\n",
    "    Q.append(int(sqrt((2 * C * i) / H)))\n",
    "Q"
   ]
  },
  {
   "cell_type": "markdown",
   "id": "4c510710",
   "metadata": {},
   "source": [
    "<pre>\n",
    "Question 2:\n",
    "Write a program which takes 2 digits, X,Y as input and generates a 2-dimensional array. The element value in the i-th row and j-th column of the array should be i*j.\n",
    "\n",
    "Note: i=0,1.., X-1; j=0,1,¡¬Y-1.\n",
    "\n",
    "Example\n",
    "\n",
    "Suppose the following inputs are given to the program:\n",
    "\n",
    "3,5\n",
    "\n",
    "Then, the output of the program should be:\n",
    "\n",
    "[[0, 0, 0, 0, 0], [0, 1, 2, 3, 4], [0, 2, 4, 6, 8]] \n",
    "\n",
    "</pre>\n"
   ]
  },
  {
   "cell_type": "code",
   "execution_count": 9,
   "id": "dd62150a",
   "metadata": {},
   "outputs": [
    {
     "data": {
      "text/plain": [
       "[[0, 0, 0, 0, 0], [0, 1, 2, 3, 4], [0, 2, 4, 6, 8]]"
      ]
     },
     "execution_count": 9,
     "metadata": {},
     "output_type": "execute_result"
    }
   ],
   "source": [
    "X = 3\n",
    "Y = 5\n",
    "mat = [[0 for _ in range(Y)] for _ in range(X)]\n",
    "\n",
    "for i in range(X):\n",
    "    for j in range(Y):\n",
    "        mat[i][j] = i * j\n",
    "mat"
   ]
  },
  {
   "cell_type": "markdown",
   "id": "71f295d6",
   "metadata": {},
   "source": [
    "<pre>Question 3:\n",
    "Write a program that accepts a comma separated sequence of words as input and prints the words in a comma-separated sequence after sorting them alphabetically.\n",
    "\n",
    "Suppose the following input is supplied to the program:\n",
    "\n",
    "without,hello,bag,world\n",
    "\n",
    "Then, the output should be:\n",
    "\n",
    "bag,hello,without,world\n",
    "\n",
    "</pre>"
   ]
  },
  {
   "cell_type": "code",
   "execution_count": 11,
   "id": "93527880",
   "metadata": {},
   "outputs": [
    {
     "data": {
      "text/plain": [
       "['bag', 'hello', 'without', 'world']"
      ]
     },
     "execution_count": 11,
     "metadata": {},
     "output_type": "execute_result"
    }
   ],
   "source": [
    "words = \"without, hello, bag, world\"\n",
    "words = words.split(', ')\n",
    "sorted(words)"
   ]
  },
  {
   "cell_type": "markdown",
   "id": "b25324e4",
   "metadata": {},
   "source": [
    "<pre>Question 4:\n",
    "Write a program that accepts a sequence of whitespace separated words as input and prints the words after removing all duplicate words and sorting them alphanumerically.\n",
    "\n",
    "Suppose the following input is supplied to the program:\n",
    "\n",
    "hello world and practice makes perfect and hello world again\n",
    "\n",
    "Then, the output should be:\n",
    "\n",
    "again and hello makes perfect practice world\n",
    "</pre>\n"
   ]
  },
  {
   "cell_type": "code",
   "execution_count": 13,
   "id": "e2684b32",
   "metadata": {},
   "outputs": [
    {
     "data": {
      "text/plain": [
       "'again and hello makes perfect practice world'"
      ]
     },
     "execution_count": 13,
     "metadata": {},
     "output_type": "execute_result"
    }
   ],
   "source": [
    "words = 'hello world and practice makes perfect and hello world again'\n",
    "words = words.split()\n",
    "words = set(words)\n",
    "' '.join(sorted(words))"
   ]
  },
  {
   "cell_type": "markdown",
   "id": "51501f1a",
   "metadata": {},
   "source": [
    "<pre>Question 5:\n",
    "Write a program that accepts a sentence and calculate the number of letters and digits.\n",
    "\n",
    "Suppose the following input is supplied to the program:\n",
    "\n",
    "hello world! 123\n",
    "\n",
    "Then, the output should be:\n",
    "\n",
    "LETTERS 10\n",
    "\n",
    "DIGITS 3\n",
    "</pre>\n"
   ]
  },
  {
   "cell_type": "code",
   "execution_count": 16,
   "id": "74bbbbeb",
   "metadata": {},
   "outputs": [
    {
     "name": "stdout",
     "output_type": "stream",
     "text": [
      "LETTERS  10\n",
      "DIGITS  3\n"
     ]
    }
   ],
   "source": [
    "string = 'hello world! 123'\n",
    "string = string.lower()\n",
    "\n",
    "lcnt = 0\n",
    "dcnt = 0\n",
    "\n",
    "for i in string:\n",
    "    if ord(i) >=97 and ord(i) <=122:\n",
    "        lcnt += 1\n",
    "    elif ord(i) >= 48 and ord(i) <= 57:\n",
    "        dcnt += 1\n",
    "print('LETTERS ', lcnt)\n",
    "print('DIGITS ', dcnt)"
   ]
  },
  {
   "cell_type": "markdown",
   "id": "ba733b7b",
   "metadata": {},
   "source": [
    "<pre>Question 6:\n",
    "A website requires the users to input username and password to register. Write a program to check the validity of password input by users.\n",
    "\n",
    "Following are the criteria for checking the password:\n",
    "\n",
    "1. At least 1 letter between [a-z]\n",
    "\n",
    "2. At least 1 number between [0-9]\n",
    "\n",
    "1. At least 1 letter between [A-Z]\n",
    "\n",
    "3. At least 1 character from [$#@]\n",
    "\n",
    "4. Minimum length of transaction password: 6\n",
    "\n",
    "5. Maximum length of transaction password: 12\n",
    "\n",
    "Your program should accept a sequence of comma separated passwords and will check them according to the above criteria. Passwords that match the criteria are to be printed, each separated by a comma.\n",
    "\n",
    "Example\n",
    "\n",
    "If the following passwords are given as input to the program:\n",
    "\n",
    "ABd1234@1,a F1#,2w3E*,2We3345\n",
    "\n",
    "Then, the output of the program should be:\n",
    "\n",
    "ABd1234@1\n",
    "</pre>"
   ]
  },
  {
   "cell_type": "code",
   "execution_count": 19,
   "id": "f45de2fc",
   "metadata": {},
   "outputs": [
    {
     "data": {
      "text/plain": [
       "'ABd1234@1'"
      ]
     },
     "execution_count": 19,
     "metadata": {},
     "output_type": "execute_result"
    }
   ],
   "source": [
    "passwords = 'ABd1234@1,a F1#,2w3E*,2We3345'\n",
    "passwords = passwords.split(',')\n",
    "matches = []\n",
    "for password in passwords:\n",
    "    pw = set(password)\n",
    "    \n",
    "    lcase_flag = False\n",
    "    ucase_flag = False\n",
    "    dig_flag = False\n",
    "    spl_flag = False\n",
    "    \n",
    "    min_length = 6\n",
    "    max_length = 12\n",
    "    \n",
    "    for i in pw:\n",
    "        if ord(i) >= 97 and ord(i) <= 122:\n",
    "            lcase_flag = True\n",
    "            break\n",
    "    \n",
    "    for i in pw:\n",
    "        if ord(i) >= 65 and ord(i) <= 91:\n",
    "            ucase_flag = True\n",
    "            break\n",
    "    \n",
    "    for i in pw:\n",
    "        if i == '$' or i == '#' or i == '@':\n",
    "            spl_flag = True\n",
    "            break\n",
    "    \n",
    "    for i in pw:\n",
    "        if ord(i) >= 48 and ord(i) <= 57:\n",
    "            dig_flag = True\n",
    "            break\n",
    "    \n",
    "    if lcase_flag and ucase_flag and dig_flag and spl_flag and len(password) >= 6 and len(password) <=12:\n",
    "        matches.append(password)\n",
    "        \n",
    "','.join(matches)"
   ]
  }
 ],
 "metadata": {
  "kernelspec": {
   "display_name": "Python 3 (ipykernel)",
   "language": "python",
   "name": "python3"
  },
  "language_info": {
   "codemirror_mode": {
    "name": "ipython",
    "version": 3
   },
   "file_extension": ".py",
   "mimetype": "text/x-python",
   "name": "python",
   "nbconvert_exporter": "python",
   "pygments_lexer": "ipython3",
   "version": "3.9.12"
  }
 },
 "nbformat": 4,
 "nbformat_minor": 5
}
