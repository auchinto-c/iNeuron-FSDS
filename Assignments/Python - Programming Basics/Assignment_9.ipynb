{
 "cells": [
  {
   "cell_type": "markdown",
   "id": "70bd0709",
   "metadata": {},
   "source": [
    "# Assignment 9"
   ]
  },
  {
   "cell_type": "markdown",
   "id": "e1395229",
   "metadata": {},
   "source": [
    "1.\tWrite a Python program to check if the given number is a Disarium Number?\n"
   ]
  },
  {
   "cell_type": "code",
   "execution_count": 2,
   "id": "fc228057",
   "metadata": {},
   "outputs": [
    {
     "name": "stdout",
     "output_type": "stream",
     "text": [
      "True\n"
     ]
    }
   ],
   "source": [
    "num = 135\n",
    "num_str = str(135)\n",
    "add = 0\n",
    "for i in range(len(num_str)):\n",
    "    add += int(num_str[i]) ** (i+1)\n",
    "\n",
    "print(num == add)"
   ]
  },
  {
   "cell_type": "code",
   "execution_count": 7,
   "id": "f72dcab1",
   "metadata": {},
   "outputs": [
    {
     "name": "stdout",
     "output_type": "stream",
     "text": [
      "True\n"
     ]
    }
   ],
   "source": [
    "num = 135\n",
    "add = 0\n",
    "\n",
    "# Reverse the order of the digits : 135 -> 531\n",
    "n = num\n",
    "new_num = 0\n",
    "while n != 0:\n",
    "    dig = n % 10\n",
    "    n = n // 10\n",
    "    new_num = new_num * 10 + dig\n",
    "\n",
    "# Now check for the Disarium condition\n",
    "n = new_num\n",
    "cntr = 1\n",
    "while n != 0:\n",
    "    dig = n % 10\n",
    "    n = n // 10\n",
    "    add += dig ** cntr\n",
    "    cntr += 1\n",
    "\n",
    "print(num == add)"
   ]
  },
  {
   "cell_type": "markdown",
   "id": "b2e89edb",
   "metadata": {},
   "source": [
    "2.\tWrite a Python program to print all disarium numbers between 1 to 100?\n"
   ]
  },
  {
   "cell_type": "code",
   "execution_count": 8,
   "id": "ec09615f",
   "metadata": {},
   "outputs": [
    {
     "name": "stdout",
     "output_type": "stream",
     "text": [
      "1,2,3,4,5,6,7,8,9,89,"
     ]
    }
   ],
   "source": [
    "for i in range(1, 101):\n",
    "    i_str = str(i)\n",
    "    add = 0\n",
    "    for j in range(len(i_str)):\n",
    "        add += int(i_str[j]) ** (j+1)\n",
    "    if i == add:\n",
    "        print(i, end = ',')"
   ]
  },
  {
   "cell_type": "markdown",
   "id": "68c9a752",
   "metadata": {},
   "source": [
    "3.\tWrite a Python program to check if the given number is Happy Number?\n"
   ]
  },
  {
   "cell_type": "code",
   "execution_count": 25,
   "id": "3966e057",
   "metadata": {},
   "outputs": [],
   "source": [
    "def happy_number(num):\n",
    "    n = num\n",
    "    seen = set()\n",
    "    seen.add(num)\n",
    "\n",
    "    while True:\n",
    "        nstr = str(n)\n",
    "        add = 0\n",
    "        for i in nstr:\n",
    "            add += int(i) ** 2\n",
    "            \n",
    "        n = add\n",
    "        if n == 1:\n",
    "            return True\n",
    "        else:\n",
    "            if n in seen:\n",
    "                return False\n",
    "            seen.add(n)"
   ]
  },
  {
   "cell_type": "code",
   "execution_count": 26,
   "id": "50f3d52f",
   "metadata": {},
   "outputs": [
    {
     "data": {
      "text/plain": [
       "True"
      ]
     },
     "execution_count": 26,
     "metadata": {},
     "output_type": "execute_result"
    }
   ],
   "source": [
    "happy_number(19)"
   ]
  },
  {
   "cell_type": "code",
   "execution_count": 27,
   "id": "311b116e",
   "metadata": {},
   "outputs": [
    {
     "data": {
      "text/plain": [
       "False"
      ]
     },
     "execution_count": 27,
     "metadata": {},
     "output_type": "execute_result"
    }
   ],
   "source": [
    "happy_number(20)"
   ]
  },
  {
   "cell_type": "markdown",
   "id": "2b0569c8",
   "metadata": {},
   "source": [
    "4.\tWrite a Python program to print all happy numbers between 1 and 100?\n"
   ]
  },
  {
   "cell_type": "code",
   "execution_count": 29,
   "id": "e9265d9c",
   "metadata": {},
   "outputs": [
    {
     "name": "stdout",
     "output_type": "stream",
     "text": [
      "1\n",
      "7\n",
      "10\n",
      "13\n",
      "19\n",
      "23\n",
      "28\n",
      "31\n",
      "32\n",
      "44\n",
      "49\n",
      "68\n",
      "70\n",
      "79\n",
      "82\n",
      "86\n",
      "91\n",
      "94\n",
      "97\n",
      "100\n"
     ]
    }
   ],
   "source": [
    "for i in range(1, 101):\n",
    "    if happy_number(i):\n",
    "        print(i)"
   ]
  },
  {
   "cell_type": "markdown",
   "id": "3db3f9e9",
   "metadata": {},
   "source": [
    "5.\tWrite a Python program to determine whether the given number is a Harshad Number?\n"
   ]
  },
  {
   "cell_type": "code",
   "execution_count": 31,
   "id": "ad601c46",
   "metadata": {},
   "outputs": [],
   "source": [
    "def harshad_number(num):\n",
    "    num_str = str(num)\n",
    "    add = 0\n",
    "    for i in range(len(num_str)):\n",
    "        add += int(num_str[i])\n",
    "\n",
    "    return num % add == 0"
   ]
  },
  {
   "cell_type": "code",
   "execution_count": 32,
   "id": "0fe41ecc",
   "metadata": {},
   "outputs": [
    {
     "data": {
      "text/plain": [
       "False"
      ]
     },
     "execution_count": 32,
     "metadata": {},
     "output_type": "execute_result"
    }
   ],
   "source": [
    "harshad_number(15)"
   ]
  },
  {
   "cell_type": "code",
   "execution_count": 33,
   "id": "2f7a2e3f",
   "metadata": {},
   "outputs": [
    {
     "data": {
      "text/plain": [
       "True"
      ]
     },
     "execution_count": 33,
     "metadata": {},
     "output_type": "execute_result"
    }
   ],
   "source": [
    "harshad_number(18)"
   ]
  },
  {
   "cell_type": "markdown",
   "id": "50431295",
   "metadata": {},
   "source": [
    "6.\tWrite a Python program to print all pronic numbers between 1 and 100?\n"
   ]
  },
  {
   "cell_type": "code",
   "execution_count": 70,
   "id": "f79a98ef",
   "metadata": {},
   "outputs": [],
   "source": [
    "def pronic_number(num):\n",
    "    for i in range(1, num//2 + 1):\n",
    "        if i * (i+1) == num:\n",
    "            return True\n",
    "    return False"
   ]
  },
  {
   "cell_type": "code",
   "execution_count": 71,
   "id": "44a29bf0",
   "metadata": {},
   "outputs": [
    {
     "data": {
      "text/plain": [
       "True"
      ]
     },
     "execution_count": 71,
     "metadata": {},
     "output_type": "execute_result"
    }
   ],
   "source": [
    "pronic_number(20)"
   ]
  },
  {
   "cell_type": "code",
   "execution_count": 72,
   "id": "9862a3e1",
   "metadata": {},
   "outputs": [
    {
     "data": {
      "text/plain": [
       "False"
      ]
     },
     "execution_count": 72,
     "metadata": {},
     "output_type": "execute_result"
    }
   ],
   "source": [
    "pronic_number(11)"
   ]
  },
  {
   "cell_type": "code",
   "execution_count": 73,
   "id": "837c3da2",
   "metadata": {},
   "outputs": [
    {
     "name": "stdout",
     "output_type": "stream",
     "text": [
      "2,6,12,20,30,42,56,72,90,"
     ]
    }
   ],
   "source": [
    "for i in range(1, 101):\n",
    "    if pronic_number(i): print(i, end = ',')"
   ]
  }
 ],
 "metadata": {
  "kernelspec": {
   "display_name": "Python 3 (ipykernel)",
   "language": "python",
   "name": "python3"
  },
  "language_info": {
   "codemirror_mode": {
    "name": "ipython",
    "version": 3
   },
   "file_extension": ".py",
   "mimetype": "text/x-python",
   "name": "python",
   "nbconvert_exporter": "python",
   "pygments_lexer": "ipython3",
   "version": "3.9.12"
  }
 },
 "nbformat": 4,
 "nbformat_minor": 5
}
