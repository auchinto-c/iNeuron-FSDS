{
 "cells": [
  {
   "cell_type": "markdown",
   "id": "28314d2b",
   "metadata": {},
   "source": [
    "# Assignment 2"
   ]
  },
  {
   "cell_type": "markdown",
   "id": "a336f40d",
   "metadata": {},
   "source": [
    "1.\tWrite a Python program to convert kilometers to miles?"
   ]
  },
  {
   "cell_type": "code",
   "execution_count": 2,
   "id": "91cc678c",
   "metadata": {},
   "outputs": [
    {
     "name": "stdout",
     "output_type": "stream",
     "text": [
      "30.0 km = 18.6 miles\n"
     ]
    }
   ],
   "source": [
    "# 1km = 0.62 mile\n",
    "\n",
    "kilometers = 30.0\n",
    "miles = 0.62 * kilometers\n",
    "\n",
    "print(f'{kilometers} km = {miles} miles')"
   ]
  },
  {
   "cell_type": "markdown",
   "id": "ed317c04",
   "metadata": {},
   "source": [
    "2.\tWrite a Python program to convert Celsius to Fahrenheit?"
   ]
  },
  {
   "cell_type": "code",
   "execution_count": 3,
   "id": "873c11da",
   "metadata": {},
   "outputs": [
    {
     "name": "stdout",
     "output_type": "stream",
     "text": [
      "30.0 degree C = 86.0 degree F\n"
     ]
    }
   ],
   "source": [
    "# Celcius to Fahrenheit \n",
    "# F = 1.8 * C + 32\n",
    "\n",
    "celcius_temp = 30.0\n",
    "fahrenheit_temp = 1.8 * celcius_temp + 32\n",
    "\n",
    "print(f'{celcius_temp} degree C = {fahrenheit_temp} degree F')"
   ]
  },
  {
   "cell_type": "markdown",
   "id": "6ab56bd5",
   "metadata": {},
   "source": [
    "3.\tWrite a Python program to display calendar?"
   ]
  },
  {
   "cell_type": "code",
   "execution_count": 8,
   "id": "b6b108a2",
   "metadata": {},
   "outputs": [
    {
     "name": "stdout",
     "output_type": "stream",
     "text": [
      "    October 2022\n",
      "Mo Tu We Th Fr Sa Su\n",
      "                1  2\n",
      " 3  4  5  6  7  8  9\n",
      "10 11 12 13 14 15 16\n",
      "17 18 19 20 21 22 23\n",
      "24 25 26 27 28 29 30\n",
      "31\n",
      "\n"
     ]
    }
   ],
   "source": [
    "import calendar\n",
    "\n",
    "yyyy = 2022\n",
    "mm = 10\n",
    "\n",
    "print(calendar.month(yyyy, mm))"
   ]
  },
  {
   "cell_type": "markdown",
   "id": "c43a0bea",
   "metadata": {},
   "source": [
    "4.\tWrite a Python program to solve quadratic equation?"
   ]
  },
  {
   "cell_type": "code",
   "execution_count": 6,
   "id": "0983ec64",
   "metadata": {},
   "outputs": [
    {
     "name": "stdout",
     "output_type": "stream",
     "text": [
      "Roots for the equation ((1)*x**2 + (-4)*x + (4) = 0): 2.0 and 2.0\n"
     ]
    }
   ],
   "source": [
    "# For a quadratic equation, ax**2 + bx + c = 0\n",
    "# Roots are { x1 = (-b + sqrt(b*b - 4*a*c))/(2*a) } and { x2 = (-b - sqrt(b*b - 4*a*c))/(2*a) }\n",
    "\n",
    "import math\n",
    "\n",
    "a = 1\n",
    "b = -4\n",
    "c = 4\n",
    "# x**2 -4x + 4 = 0\n",
    "\n",
    "x1 = (-b + math.sqrt(b*b - 4*a*c))/(2*a)\n",
    "x2 = (-b - math.sqrt(b*b - 4*a*c))/(2*a)\n",
    "\n",
    "print(f'Roots for the equation (({a})*x**2 + ({b})*x + ({c}) = 0): {x1} and {x2}')"
   ]
  },
  {
   "cell_type": "markdown",
   "id": "a3047cdd",
   "metadata": {},
   "source": [
    "5.\tWrite a Python program to swap two variables without temp variable?"
   ]
  },
  {
   "cell_type": "code",
   "execution_count": 7,
   "id": "a14070d5",
   "metadata": {},
   "outputs": [
    {
     "name": "stdout",
     "output_type": "stream",
     "text": [
      "Values before swapping: a = 5 and b = 8\n",
      "Values after swapping: a = 8 and b = 5\n"
     ]
    }
   ],
   "source": [
    "a = 5\n",
    "b = 8\n",
    "\n",
    "print(f'Values before swapping: a = {a} and b = {b}')\n",
    "\n",
    "a = a + b\n",
    "b = a - b\n",
    "a = a - b\n",
    "\n",
    "print(f'Values after swapping: a = {a} and b = {b}')"
   ]
  }
 ],
 "metadata": {
  "kernelspec": {
   "display_name": "Python 3 (ipykernel)",
   "language": "python",
   "name": "python3"
  },
  "language_info": {
   "codemirror_mode": {
    "name": "ipython",
    "version": 3
   },
   "file_extension": ".py",
   "mimetype": "text/x-python",
   "name": "python",
   "nbconvert_exporter": "python",
   "pygments_lexer": "ipython3",
   "version": "3.9.12"
  }
 },
 "nbformat": 4,
 "nbformat_minor": 5
}
