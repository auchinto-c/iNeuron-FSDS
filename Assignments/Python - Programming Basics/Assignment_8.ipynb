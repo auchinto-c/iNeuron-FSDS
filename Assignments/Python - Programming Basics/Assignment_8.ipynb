{
 "cells": [
  {
   "cell_type": "markdown",
   "id": "9aa8038b",
   "metadata": {},
   "source": [
    "# Assignment 8"
   ]
  },
  {
   "cell_type": "markdown",
   "id": "e113ef0d",
   "metadata": {},
   "source": [
    "1.\tWrite a Python Program to Add Two Matrices?\n"
   ]
  },
  {
   "cell_type": "code",
   "execution_count": 3,
   "id": "aa5d9d7b",
   "metadata": {},
   "outputs": [],
   "source": [
    "def sum_mat(mat1, mat2):\n",
    "    r1 = len(mat1)     # Number of rows in matrix 1\n",
    "    c1 = len(mat1[0])  # Number of rows in matrix 1\n",
    "    r2 = len(mat2)     # Number of columns in matrix 2\n",
    "    c2 = len(mat2[0])  # Number of columns in matrix 2\n",
    "    \n",
    "    if r1 != r2 and c1 != c2: return -1\n",
    "    \n",
    "    result = mat1\n",
    "    \n",
    "    for i in range(r1):\n",
    "        for j in range(r2):\n",
    "            result[i][j] += mat2[i][j]\n",
    "    return result"
   ]
  },
  {
   "cell_type": "code",
   "execution_count": 4,
   "id": "4af5cbb2",
   "metadata": {},
   "outputs": [
    {
     "data": {
      "text/plain": [
       "[[4, 8, 5], [8, 10, 1]]"
      ]
     },
     "execution_count": 4,
     "metadata": {},
     "output_type": "execute_result"
    }
   ],
   "source": [
    "mat1 = [[2,4,5],[4,5,1]]\n",
    "mat2 = [[2,4,5],[4,5,1]]\n",
    "sum_mat(mat1, mat2)"
   ]
  },
  {
   "cell_type": "markdown",
   "id": "a121c77e",
   "metadata": {},
   "source": [
    "2.\tWrite a Python Program to Multiply Two Matrices?\n"
   ]
  },
  {
   "cell_type": "code",
   "execution_count": 31,
   "id": "11b574b2",
   "metadata": {},
   "outputs": [],
   "source": [
    "def mul_mat(mat1, mat2):\n",
    "    r1 = len(mat1)     # Number of rows in matrix 1\n",
    "    c1 = len(mat1[0])  # Number of rows in matrix 1\n",
    "    r2 = len(mat2)     # Number of columns in matrix 2\n",
    "    c2 = len(mat2[0])  # Number of columns in matrix 2\n",
    "\n",
    "    if c1 != r2: return None\n",
    "    \n",
    "    result = [[0 for _ in range(c2)] for _ in range(r1)]\n",
    "    \n",
    "    for i in range(r1):\n",
    "        for j in range(c1):\n",
    "            for k in range(c2):\n",
    "                result[i][k] += mat1[i][j] * mat2[j][k]\n",
    "    return result"
   ]
  },
  {
   "cell_type": "code",
   "execution_count": 32,
   "id": "c64a5fe7",
   "metadata": {},
   "outputs": [],
   "source": [
    "matA = [[2,4,5],[4,5,1]]\n",
    "matB = [[4, 8], [8, 10], [5, 1]]"
   ]
  },
  {
   "cell_type": "code",
   "execution_count": 33,
   "id": "1d25f3cd",
   "metadata": {},
   "outputs": [
    {
     "data": {
      "text/plain": [
       "[[65, 61], [61, 83]]"
      ]
     },
     "execution_count": 33,
     "metadata": {},
     "output_type": "execute_result"
    }
   ],
   "source": [
    "mul_mat(matA, matB)"
   ]
  },
  {
   "cell_type": "markdown",
   "id": "53ea9e54",
   "metadata": {},
   "source": [
    "3.\tWrite a Python Program to Transpose a Matrix?\n"
   ]
  },
  {
   "cell_type": "code",
   "execution_count": 11,
   "id": "ca93c8e8",
   "metadata": {},
   "outputs": [],
   "source": [
    "def transpose(mat):\n",
    "    r = len(mat)\n",
    "    c = len(mat[0])\n",
    "    \n",
    "    t_mat = [[0 for _ in range(r)] for _ in range(c)]\n",
    "    \n",
    "    for i in range(r):\n",
    "        for j in range(c):\n",
    "            t_mat[j][i] = mat[i][j]\n",
    "    return t_mat"
   ]
  },
  {
   "cell_type": "code",
   "execution_count": 9,
   "id": "32078e14",
   "metadata": {},
   "outputs": [
    {
     "data": {
      "text/plain": [
       "[[4, 8, 5], [8, 10, 1]]"
      ]
     },
     "execution_count": 9,
     "metadata": {},
     "output_type": "execute_result"
    }
   ],
   "source": [
    "mat1"
   ]
  },
  {
   "cell_type": "code",
   "execution_count": 12,
   "id": "25e31880",
   "metadata": {},
   "outputs": [
    {
     "data": {
      "text/plain": [
       "[[4, 8], [8, 10], [5, 1]]"
      ]
     },
     "execution_count": 12,
     "metadata": {},
     "output_type": "execute_result"
    }
   ],
   "source": [
    "transpose(mat1)"
   ]
  },
  {
   "cell_type": "markdown",
   "id": "f9e34c35",
   "metadata": {},
   "source": [
    "4.\tWrite a Python Program to Sort Words in Alphabetic Order?\n"
   ]
  },
  {
   "cell_type": "code",
   "execution_count": 7,
   "id": "c33c1ac1",
   "metadata": {},
   "outputs": [
    {
     "data": {
      "text/plain": [
       "'alphabetic in is order sort test the this to words'"
      ]
     },
     "execution_count": 7,
     "metadata": {},
     "output_type": "execute_result"
    }
   ],
   "source": [
    "s = 'This is the test to sort words in alphabetic order'\n",
    "ls = s.lower().split()\n",
    "' '.join(sorted(ls))"
   ]
  },
  {
   "cell_type": "markdown",
   "id": "5c85fd88",
   "metadata": {},
   "source": [
    "5.\tWrite a Python Program to Remove Punctuation From a String?\n"
   ]
  },
  {
   "cell_type": "code",
   "execution_count": 5,
   "id": "6a4259b3",
   "metadata": {},
   "outputs": [
    {
     "data": {
      "text/plain": [
       "'dfhadhfashasijp ahfasfha uahsfoaishdao'"
      ]
     },
     "execution_count": 5,
     "metadata": {},
     "output_type": "execute_result"
    }
   ],
   "source": [
    "s = 'dfhadhfashasijp, ahfasfha. uahsfoaishdao?'\n",
    "punctuations = [',', '.', '?']\n",
    "\n",
    "for i in punctuations:\n",
    "    s = s.replace(i, '')\n",
    "s"
   ]
  }
 ],
 "metadata": {
  "kernelspec": {
   "display_name": "Python 3 (ipykernel)",
   "language": "python",
   "name": "python3"
  },
  "language_info": {
   "codemirror_mode": {
    "name": "ipython",
    "version": 3
   },
   "file_extension": ".py",
   "mimetype": "text/x-python",
   "name": "python",
   "nbconvert_exporter": "python",
   "pygments_lexer": "ipython3",
   "version": "3.9.12"
  }
 },
 "nbformat": 4,
 "nbformat_minor": 5
}
