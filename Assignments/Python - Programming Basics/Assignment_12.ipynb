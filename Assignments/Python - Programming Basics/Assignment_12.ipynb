{
 "cells": [
  {
   "cell_type": "markdown",
   "id": "68653e8e",
   "metadata": {},
   "source": [
    "# Assignment 12"
   ]
  },
  {
   "cell_type": "markdown",
   "id": "f6fecf41",
   "metadata": {},
   "source": [
    "1.\tWrite a Python program to Extract Unique values dictionary values?\n"
   ]
  },
  {
   "cell_type": "code",
   "execution_count": 1,
   "id": "91aa7445",
   "metadata": {},
   "outputs": [
    {
     "data": {
      "text/plain": [
       "{1, 2, 3}"
      ]
     },
     "execution_count": 1,
     "metadata": {},
     "output_type": "execute_result"
    }
   ],
   "source": [
    "dt = {1:2, 2:2, 3:1, 4:3, 5:3}\n",
    "set(dt.values())"
   ]
  },
  {
   "cell_type": "code",
   "execution_count": 2,
   "id": "30231dc5",
   "metadata": {},
   "outputs": [
    {
     "data": {
      "text/plain": [
       "[2, 1, 3]"
      ]
     },
     "execution_count": 2,
     "metadata": {},
     "output_type": "execute_result"
    }
   ],
   "source": [
    "seen = []\n",
    "for i in dt.values():\n",
    "    if i not in seen:\n",
    "        seen.append(i)\n",
    "seen"
   ]
  },
  {
   "cell_type": "markdown",
   "id": "b1e68ef9",
   "metadata": {},
   "source": [
    "2.\tWrite a Python program to find the sum of all items in a dictionary?\n"
   ]
  },
  {
   "cell_type": "code",
   "execution_count": 3,
   "id": "67cd1847",
   "metadata": {},
   "outputs": [
    {
     "data": {
      "text/plain": [
       "11"
      ]
     },
     "execution_count": 3,
     "metadata": {},
     "output_type": "execute_result"
    }
   ],
   "source": [
    "dt = {1:2, 2:2, 3:1, 4:3, 5:3}\n",
    "add = 0\n",
    "for i in dt.values():\n",
    "    add += i\n",
    "add"
   ]
  },
  {
   "cell_type": "markdown",
   "id": "469461cf",
   "metadata": {},
   "source": [
    "3.\tWrite a Python program to Merging two Dictionaries?\n"
   ]
  },
  {
   "cell_type": "code",
   "execution_count": 5,
   "id": "752a03c0",
   "metadata": {},
   "outputs": [
    {
     "data": {
      "text/plain": [
       "{1: [2, 2], 2: [2, 2], 3: [1, 1], 4: 3, 5: 3}"
      ]
     },
     "execution_count": 5,
     "metadata": {},
     "output_type": "execute_result"
    }
   ],
   "source": [
    "dt1 = {1:2, 2:2, 3:1, 4:3, 5:3}\n",
    "dt2 = {1:2, 2:2, 3:1}\n",
    "\n",
    "for i, j in dt2.items():\n",
    "    if i in dt1:\n",
    "        dt1[i] = [dt1[i], dt2[i]]\n",
    "    else:\n",
    "        dt1[i] = dt2[i]\n",
    "dt1"
   ]
  },
  {
   "cell_type": "markdown",
   "id": "4ae296c8",
   "metadata": {},
   "source": [
    "4.\tWrite a Python program to convert key-values list to flat dictionary?\n"
   ]
  },
  {
   "cell_type": "code",
   "execution_count": 6,
   "id": "5e562032",
   "metadata": {},
   "outputs": [
    {
     "data": {
      "text/plain": [
       "{1: 2, 2: 3, 3: 4}"
      ]
     },
     "execution_count": 6,
     "metadata": {},
     "output_type": "execute_result"
    }
   ],
   "source": [
    "kvlist = [(1,2), (2,3), (3,4)]\n",
    "dt = {}\n",
    "for i, j in kvlist:\n",
    "    dt[i] = j\n",
    "dt"
   ]
  },
  {
   "cell_type": "markdown",
   "id": "f017f721",
   "metadata": {},
   "source": [
    "5.\tWrite a Python program to insertion at the beginning in OrderedDict?\n"
   ]
  },
  {
   "cell_type": "code",
   "execution_count": 22,
   "id": "b220288a",
   "metadata": {},
   "outputs": [
    {
     "data": {
      "text/plain": [
       "OrderedDict([(0, 0), (1, 2), (2, 3)])"
      ]
     },
     "execution_count": 22,
     "metadata": {},
     "output_type": "execute_result"
    }
   ],
   "source": [
    "from collections import OrderedDict\n",
    "\n",
    "od = OrderedDict([(1, 2), (2, 3)])\n",
    "\n",
    "od.update({0: 0})\n",
    "od.move_to_end(0, last=False)\n",
    "od"
   ]
  },
  {
   "cell_type": "markdown",
   "id": "2c4ba384",
   "metadata": {},
   "source": [
    "6.\tWrite a Python program to check order of character in string using OrderedDict()?\n"
   ]
  },
  {
   "cell_type": "code",
   "execution_count": 37,
   "id": "ef62fe62",
   "metadata": {},
   "outputs": [
    {
     "name": "stdout",
     "output_type": "stream",
     "text": [
      "true\n"
     ]
    }
   ],
   "source": [
    "ip = 'python programming'\n",
    "pattern = 'pyt'\n",
    "od = OrderedDict.fromkeys(ip) \n",
    "\n",
    "ptrlen = 0\n",
    "flag = 0\n",
    "for key,value in od.items(): \n",
    "    if (key == pattern[ptrlen]): \n",
    "        ptrlen = ptrlen + 1\n",
    "\n",
    "    if (ptrlen == (len(pattern))): \n",
    "        print('true')\n",
    "        flag = 1\n",
    "        break\n",
    "\n",
    "if flag == 0: print('false')"
   ]
  },
  {
   "cell_type": "markdown",
   "id": "d0e8c0ec",
   "metadata": {},
   "source": [
    "7.\tWrite a Python program to sort Python Dictionaries by Key or Value?\n"
   ]
  },
  {
   "cell_type": "code",
   "execution_count": 16,
   "id": "0eb38d67",
   "metadata": {},
   "outputs": [
    {
     "name": "stdout",
     "output_type": "stream",
     "text": [
      "Sort by keys\n",
      "1 : 5\n",
      "2 : 4\n",
      "3 : 2\n",
      "Sort by values\n",
      "3 : 2\n",
      "2 : 4\n",
      "1 : 5\n"
     ]
    }
   ],
   "source": [
    "dt = {1:5, 3:2, 2:4}\n",
    "\n",
    "print('Sort by keys')\n",
    "keys = sorted(dt)\n",
    "for i in keys:\n",
    "    print(i, ':', dt[i])\n",
    "\n",
    "print('Sort by values')\n",
    "keys = sorted(dt, key=lambda x: dt[x])\n",
    "for i in keys:\n",
    "    print(i, ':', dt[i])"
   ]
  }
 ],
 "metadata": {
  "kernelspec": {
   "display_name": "Python 3 (ipykernel)",
   "language": "python",
   "name": "python3"
  },
  "language_info": {
   "codemirror_mode": {
    "name": "ipython",
    "version": 3
   },
   "file_extension": ".py",
   "mimetype": "text/x-python",
   "name": "python",
   "nbconvert_exporter": "python",
   "pygments_lexer": "ipython3",
   "version": "3.9.12"
  }
 },
 "nbformat": 4,
 "nbformat_minor": 5
}
