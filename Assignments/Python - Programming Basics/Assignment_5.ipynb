{
 "cells": [
  {
   "cell_type": "markdown",
   "id": "60a687f7",
   "metadata": {},
   "source": [
    "# Assignment 5"
   ]
  },
  {
   "cell_type": "markdown",
   "id": "9ab68b33",
   "metadata": {},
   "source": [
    "1.\tWrite a Python Program to Find LCM?"
   ]
  },
  {
   "cell_type": "code",
   "execution_count": 31,
   "id": "711d6d88",
   "metadata": {},
   "outputs": [
    {
     "name": "stdout",
     "output_type": "stream",
     "text": [
      "LCM of 4, 6: 12\n"
     ]
    }
   ],
   "source": [
    "a = 4\n",
    "b = 6\n",
    "lcm = None\n",
    "for i in range(max(a, b), a*b + 1):\n",
    "    if i % a == i % b == 0:\n",
    "        lcm = i\n",
    "        break\n",
    "\n",
    "if lcm != None: print(f'LCM of {a}, {b}: {lcm}')\n",
    "else: print('LCM not found')"
   ]
  },
  {
   "cell_type": "markdown",
   "id": "01adcce7",
   "metadata": {},
   "source": [
    "2.\tWrite a Python Program to Find HCF?"
   ]
  },
  {
   "cell_type": "code",
   "execution_count": 38,
   "id": "aae28200",
   "metadata": {},
   "outputs": [
    {
     "name": "stdout",
     "output_type": "stream",
     "text": [
      "HCF of 40, 56: 8\n"
     ]
    }
   ],
   "source": [
    "a = 40\n",
    "b = 56\n",
    "hcf = None\n",
    "for i in range(2, min(a, b) + 1):\n",
    "    if a % i == b % i == 0:\n",
    "        hcf = i\n",
    "\n",
    "if hcf != None: print(f'HCF of {a}, {b}: {hcf}')\n",
    "else: print('HCF not found')"
   ]
  },
  {
   "cell_type": "markdown",
   "id": "31acb1d9",
   "metadata": {},
   "source": [
    "3.\tWrite a Python Program to Convert Decimal to Binary, Octal and Hexadecimal?"
   ]
  },
  {
   "cell_type": "code",
   "execution_count": 9,
   "id": "c9f26a1b",
   "metadata": {},
   "outputs": [
    {
     "name": "stdout",
     "output_type": "stream",
     "text": [
      "10101111\n",
      "257\n",
      "AF\n"
     ]
    }
   ],
   "source": [
    "num = 175 # Decimal\n",
    "\n",
    "def decimal2binary(num):\n",
    "    n = num\n",
    "    result = ''\n",
    "    while n != 0:\n",
    "        result = str(n % 2) + result\n",
    "        n = n // 2\n",
    "    return result\n",
    "\n",
    "def decimal2octal(num):\n",
    "    n = num\n",
    "    result = ''\n",
    "    while n != 0:\n",
    "        result = str(n % 8) + result\n",
    "        n = n // 8\n",
    "    return result\n",
    "\n",
    "def decimal2hexadecimal(num):\n",
    "    n = num\n",
    "    result = ''\n",
    "    ref = ['A', 'B', 'C', 'D', 'E', 'F']\n",
    "    while n != 0:\n",
    "        dig = n % 16\n",
    "        if dig > 9:\n",
    "            dig = ref[dig - 9 - 1]\n",
    "        result = str(dig) + result\n",
    "        n = n // 16\n",
    "    return result\n",
    "\n",
    "print(decimal2binary(num))\n",
    "print(decimal2octal(num))\n",
    "print(decimal2hexadecimal(num))"
   ]
  },
  {
   "cell_type": "markdown",
   "id": "b8fea972",
   "metadata": {},
   "source": [
    "4.\tWrite a Python Program To Find ASCII value of a character?"
   ]
  },
  {
   "cell_type": "code",
   "execution_count": 28,
   "id": "8db571ca",
   "metadata": {},
   "outputs": [
    {
     "data": {
      "text/plain": [
       "97"
      ]
     },
     "execution_count": 28,
     "metadata": {},
     "output_type": "execute_result"
    }
   ],
   "source": [
    "ord('a') # Inbuilt function to return the ascii value of character"
   ]
  },
  {
   "cell_type": "code",
   "execution_count": 29,
   "id": "c573911e",
   "metadata": {},
   "outputs": [
    {
     "name": "stdout",
     "output_type": "stream",
     "text": [
      "122\n"
     ]
    }
   ],
   "source": [
    "# For uppercase and lowercase alphabets - manually\n",
    "char = 'z'\n",
    "repo_upper = 'ABCDEFHGIJKLMNOPQRSTUVWXYZ'\n",
    "repo_lower = 'abcdefghijklmnopqrstuvwxyz'\n",
    "\n",
    "ascii_A = 65\n",
    "ascii_a = 97\n",
    "\n",
    "if char in repo_upper: print(ascii_A + repo_upper.index(char))\n",
    "elif char in repo_lower: print(ascii_a + repo_lower.index(char))\n",
    "else: print('Not an alphabet character')"
   ]
  },
  {
   "cell_type": "markdown",
   "id": "f265dec0",
   "metadata": {},
   "source": [
    "5.\tWrite a Python Program to Make a Simple Calculator with 4 basic mathematical operations?"
   ]
  },
  {
   "cell_type": "code",
   "execution_count": 17,
   "id": "ca22496e",
   "metadata": {},
   "outputs": [
    {
     "name": "stdout",
     "output_type": "stream",
     "text": [
      "Addition (10 + 3): 13\n"
     ]
    }
   ],
   "source": [
    "a = 10\n",
    "b = 3\n",
    "op = '+' # +, -, /, *\n",
    "\n",
    "if op == '+': print(f'Addition ({a} + {b}): {a+b}')\n",
    "elif op == '-': print(f'Subtraction ({a} - {b}): {a-b}')\n",
    "elif op == '*': print(f'Multiplication ({a} * {b}): {a*b}')\n",
    "elif op == '/': \n",
    "    if b != 0:\n",
    "        print(f'Division ({a} / {b}): {a/b}')\n",
    "    else: print('Division not possible with 0 as denominator')\n",
    "else: print('Invalid Operation')"
   ]
  }
 ],
 "metadata": {
  "kernelspec": {
   "display_name": "Python 3 (ipykernel)",
   "language": "python",
   "name": "python3"
  },
  "language_info": {
   "codemirror_mode": {
    "name": "ipython",
    "version": 3
   },
   "file_extension": ".py",
   "mimetype": "text/x-python",
   "name": "python",
   "nbconvert_exporter": "python",
   "pygments_lexer": "ipython3",
   "version": "3.9.12"
  }
 },
 "nbformat": 4,
 "nbformat_minor": 5
}
