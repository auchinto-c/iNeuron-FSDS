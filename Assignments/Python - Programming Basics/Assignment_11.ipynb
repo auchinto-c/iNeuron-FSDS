{
 "cells": [
  {
   "cell_type": "markdown",
   "id": "6c0f1b02",
   "metadata": {},
   "source": [
    "# Assignment 11"
   ]
  },
  {
   "cell_type": "markdown",
   "id": "943725df",
   "metadata": {},
   "source": [
    "1.\tWrite a Python program to find words which are greater than given length k?\n"
   ]
  },
  {
   "cell_type": "code",
   "execution_count": 1,
   "id": "f6be17da",
   "metadata": {},
   "outputs": [
    {
     "name": "stdout",
     "output_type": "stream",
     "text": [
      "Python\n",
      "Programming\n"
     ]
    }
   ],
   "source": [
    "k = 5\n",
    "s = 'This is Python Programming'\n",
    "\n",
    "words = s.split()\n",
    "for word in words:\n",
    "    if len(word) > k:\n",
    "        print(word)"
   ]
  },
  {
   "cell_type": "markdown",
   "id": "07dbc9d0",
   "metadata": {},
   "source": [
    "2.\tWrite a Python program for removing i-th character from a string?\n"
   ]
  },
  {
   "cell_type": "code",
   "execution_count": 8,
   "id": "2d365f46",
   "metadata": {},
   "outputs": [
    {
     "name": "stdout",
     "output_type": "stream",
     "text": [
      "Progamming\n"
     ]
    }
   ],
   "source": [
    "i = 4\n",
    "s = 'Programming'\n",
    "\n",
    "if i < len(s):\n",
    "    s = s[:i] + s[i+1:]\n",
    "    print(s)\n",
    "else:\n",
    "    print('Removal not possible')"
   ]
  },
  {
   "cell_type": "markdown",
   "id": "17620af6",
   "metadata": {},
   "source": [
    "3.\tWrite a Python program to split and join a string?\n"
   ]
  },
  {
   "cell_type": "code",
   "execution_count": 9,
   "id": "314b4ef4",
   "metadata": {},
   "outputs": [
    {
     "name": "stdout",
     "output_type": "stream",
     "text": [
      "This is python programming\n",
      "['This', 'is', 'python', 'programming']\n",
      "This is python programming\n"
     ]
    }
   ],
   "source": [
    "s = 'This is python programming'\n",
    "print(s)\n",
    "words = s.split()\n",
    "print(words)\n",
    "new_str = ' '.join(words)\n",
    "print(new_str)"
   ]
  },
  {
   "cell_type": "markdown",
   "id": "fcf86353",
   "metadata": {},
   "source": [
    "4.\tWrite a Python to check if a given string is binary string or not?\n"
   ]
  },
  {
   "cell_type": "code",
   "execution_count": 37,
   "id": "3dafc2e0",
   "metadata": {},
   "outputs": [],
   "source": [
    "def checkBinary(s):\n",
    "    if not s.isnumeric(): return 'Not Binary'\n",
    "\n",
    "    ls = list(set(s))\n",
    "    if '0' in ls: ls.remove('0')\n",
    "    if '1' in ls: ls.remove('1')\n",
    "    \n",
    "    if len(ls) == 0: return 'Binary'\n",
    "    return 'Not Binary'"
   ]
  },
  {
   "cell_type": "code",
   "execution_count": 38,
   "id": "b79b8dd4",
   "metadata": {},
   "outputs": [
    {
     "data": {
      "text/plain": [
       "'Binary'"
      ]
     },
     "execution_count": 38,
     "metadata": {},
     "output_type": "execute_result"
    }
   ],
   "source": [
    "checkBinary('0100110')"
   ]
  },
  {
   "cell_type": "code",
   "execution_count": 39,
   "id": "05ec18ab",
   "metadata": {},
   "outputs": [
    {
     "data": {
      "text/plain": [
       "'Not Binary'"
      ]
     },
     "execution_count": 39,
     "metadata": {},
     "output_type": "execute_result"
    }
   ],
   "source": [
    "checkBinary('asdas')"
   ]
  },
  {
   "cell_type": "markdown",
   "id": "6c12110e",
   "metadata": {},
   "source": [
    "5.\tWrite a Python program to find uncommon words from two Strings?\n"
   ]
  },
  {
   "cell_type": "code",
   "execution_count": 14,
   "id": "d1df5f17",
   "metadata": {},
   "outputs": [
    {
     "name": "stdout",
     "output_type": "stream",
     "text": [
      "['for', 'data', 'science', 'this', 'interesting', 'very']\n"
     ]
    }
   ],
   "source": [
    "s1 = 'This is python programming for data science'\n",
    "s2 = 'Python programming is very interesting'\n",
    "\n",
    "s1_words = list(set(s1.lower().split()))\n",
    "s2_words = list(set(s2.lower().split()))\n",
    "common = []\n",
    "\n",
    "for i in s1_words:\n",
    "    if i in s2_words:\n",
    "        common.append(i)\n",
    "\n",
    "result = []\n",
    "for i in s1_words + s2_words:\n",
    "    if i not in common:\n",
    "        result.append(i)\n",
    "\n",
    "print(result)"
   ]
  },
  {
   "cell_type": "markdown",
   "id": "a3a62b1d",
   "metadata": {},
   "source": [
    "6.\tWrite a Python to find all duplicate characters in string?\n"
   ]
  },
  {
   "cell_type": "code",
   "execution_count": 15,
   "id": "0547ec02",
   "metadata": {},
   "outputs": [
    {
     "name": "stdout",
     "output_type": "stream",
     "text": [
      "['a', 'c', 'd', 'f']\n"
     ]
    }
   ],
   "source": [
    "seen = []\n",
    "duplicates = []\n",
    "\n",
    "string = 'aaabcccddeff'\n",
    "\n",
    "for i in string:\n",
    "    if i not in seen:\n",
    "        seen.append(i)\n",
    "    else:\n",
    "        if i not in duplicates:\n",
    "            duplicates.append(i)\n",
    "\n",
    "print(duplicates)"
   ]
  },
  {
   "cell_type": "markdown",
   "id": "5b5e944c",
   "metadata": {},
   "source": [
    "7.\tWrite a Python Program to check if a string contains any special character?\n"
   ]
  },
  {
   "cell_type": "code",
   "execution_count": 27,
   "id": "b848e11e",
   "metadata": {},
   "outputs": [],
   "source": [
    "def checkSplChar(s):\n",
    "    return not (s.isalpha() and s.isnumeric())"
   ]
  },
  {
   "cell_type": "code",
   "execution_count": 28,
   "id": "453e8f50",
   "metadata": {},
   "outputs": [
    {
     "data": {
      "text/plain": [
       "True"
      ]
     },
     "execution_count": 28,
     "metadata": {},
     "output_type": "execute_result"
    }
   ],
   "source": [
    "checkSplChar('abcd')"
   ]
  },
  {
   "cell_type": "code",
   "execution_count": 29,
   "id": "ac87cd22",
   "metadata": {},
   "outputs": [
    {
     "data": {
      "text/plain": [
       "True"
      ]
     },
     "execution_count": 29,
     "metadata": {},
     "output_type": "execute_result"
    }
   ],
   "source": [
    "checkSplChar('123')"
   ]
  },
  {
   "cell_type": "code",
   "execution_count": 30,
   "id": "854b9659",
   "metadata": {},
   "outputs": [
    {
     "data": {
      "text/plain": [
       "True"
      ]
     },
     "execution_count": 30,
     "metadata": {},
     "output_type": "execute_result"
    }
   ],
   "source": [
    "checkSplChar('a@c')"
   ]
  }
 ],
 "metadata": {
  "kernelspec": {
   "display_name": "Python 3 (ipykernel)",
   "language": "python",
   "name": "python3"
  },
  "language_info": {
   "codemirror_mode": {
    "name": "ipython",
    "version": 3
   },
   "file_extension": ".py",
   "mimetype": "text/x-python",
   "name": "python",
   "nbconvert_exporter": "python",
   "pygments_lexer": "ipython3",
   "version": "3.9.12"
  }
 },
 "nbformat": 4,
 "nbformat_minor": 5
}
