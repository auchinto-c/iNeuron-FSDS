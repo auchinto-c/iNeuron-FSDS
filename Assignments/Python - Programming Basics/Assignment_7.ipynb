{
 "cells": [
  {
   "cell_type": "markdown",
   "id": "d98bf3b5",
   "metadata": {},
   "source": [
    "# Assignment 7"
   ]
  },
  {
   "cell_type": "markdown",
   "id": "31244df7",
   "metadata": {},
   "source": [
    "1.\tWrite a Python Program to find sum of array?\n"
   ]
  },
  {
   "cell_type": "code",
   "execution_count": 1,
   "id": "c9a171b3",
   "metadata": {},
   "outputs": [
    {
     "name": "stdout",
     "output_type": "stream",
     "text": [
      "Sum of the elements of the given array:  34\n"
     ]
    }
   ],
   "source": [
    "arr = [4,2,6,2,4,6,1,7,2]\n",
    "add = 0\n",
    "for i in arr:\n",
    "    add += i\n",
    "print('Sum of the elements of the given array: ', add)"
   ]
  },
  {
   "cell_type": "markdown",
   "id": "a024dd2f",
   "metadata": {},
   "source": [
    "2.\tWrite a Python Program to find largest element in an array?\n"
   ]
  },
  {
   "cell_type": "code",
   "execution_count": 2,
   "id": "c414501f",
   "metadata": {},
   "outputs": [
    {
     "name": "stdout",
     "output_type": "stream",
     "text": [
      "Maximum in the array:  7\n"
     ]
    }
   ],
   "source": [
    "arr = [4,2,6,2,4,6,1,7,2]\n",
    "\n",
    "maxi = -9999\n",
    "for i in arr:\n",
    "    if i > maxi: maxi = i\n",
    "print('Maximum in the array: ', maxi)"
   ]
  },
  {
   "cell_type": "markdown",
   "id": "0a7b2c32",
   "metadata": {},
   "source": [
    "3.\tWrite a Python Program for array rotation?\n"
   ]
  },
  {
   "cell_type": "code",
   "execution_count": 5,
   "id": "62b6bfb2",
   "metadata": {},
   "outputs": [
    {
     "name": "stdout",
     "output_type": "stream",
     "text": [
      "Right rotation:  [4, 6, 1, 7, 2, 4, 2, 6, 2]\n",
      "Left rotation:  [6, 1, 7, 2, 4, 2, 6, 2, 4]\n"
     ]
    }
   ],
   "source": [
    "k = 5 # Number of steps for rotation.\n",
    "arr = [4,2,6,2,4,6,1,7,2]\n",
    "\n",
    "l_arr = arr[k:] + arr[:k]\n",
    "r_arr = arr[-k:] + arr[:-k]\n",
    "\n",
    "print('Right rotation: ', r_arr)\n",
    "print('Left rotation: ', l_arr)"
   ]
  },
  {
   "cell_type": "code",
   "execution_count": 8,
   "id": "c2dc786c",
   "metadata": {},
   "outputs": [
    {
     "name": "stdout",
     "output_type": "stream",
     "text": [
      "[4, 2, 6, 2, 4, 6, 1, 7, 2]\n",
      "[2, 4, 2, 6, 2, 4, 6, 1, 7]\n",
      "[7, 2, 4, 2, 6, 2, 4, 6, 1]\n",
      "[1, 7, 2, 4, 2, 6, 2, 4, 6]\n",
      "[6, 1, 7, 2, 4, 2, 6, 2, 4]\n",
      "[4, 6, 1, 7, 2, 4, 2, 6, 2]\n"
     ]
    }
   ],
   "source": [
    "print(arr)\n",
    "new_arr = arr\n",
    "for i in range(k): # Right Rotation\n",
    "    new_arr =  [new_arr[-1]] + new_arr[:-1]\n",
    "    print(new_arr)"
   ]
  },
  {
   "cell_type": "markdown",
   "id": "a059b937",
   "metadata": {},
   "source": [
    "4.\tWrite a Python Program to Split the array and add the first part to the end?\n"
   ]
  },
  {
   "cell_type": "code",
   "execution_count": 9,
   "id": "47da103c",
   "metadata": {},
   "outputs": [
    {
     "name": "stdout",
     "output_type": "stream",
     "text": [
      "[4, 2, 6, 2, 4, 6, 1, 7, 2]\n",
      "[6, 1, 7, 2, 4, 2, 6, 2, 4]\n"
     ]
    }
   ],
   "source": [
    "k = 5 # split position\n",
    "arr = [4,2,6,2,4,6,1,7,2]\n",
    "new_arr = arr[k:] + arr[:k]\n",
    "print(arr)\n",
    "print(new_arr)"
   ]
  },
  {
   "cell_type": "markdown",
   "id": "aefd4aee",
   "metadata": {},
   "source": [
    "5.\tWrite a Python Program to check if given array is Monotonic?\n"
   ]
  },
  {
   "cell_type": "code",
   "execution_count": 32,
   "id": "13c7c914",
   "metadata": {},
   "outputs": [],
   "source": [
    "def monotone(arr):\n",
    "    flag = 0\n",
    "    last = 1\n",
    "    for i in range(len(arr) - 1):\n",
    "        if arr[i] < arr[i+1]: \n",
    "            flag += 1\n",
    "            last = 1\n",
    "        elif arr[i+1] < arr[i]: \n",
    "            flag += -1\n",
    "            last = -1\n",
    "        else: flag += last\n",
    "\n",
    "    return abs(flag) == len(arr) - 1"
   ]
  },
  {
   "cell_type": "code",
   "execution_count": 26,
   "id": "7dcb0cf2",
   "metadata": {},
   "outputs": [
    {
     "name": "stdout",
     "output_type": "stream",
     "text": [
      "4\n"
     ]
    },
    {
     "data": {
      "text/plain": [
       "True"
      ]
     },
     "execution_count": 26,
     "metadata": {},
     "output_type": "execute_result"
    }
   ],
   "source": [
    "monotone([1,2,3,4,5])"
   ]
  },
  {
   "cell_type": "code",
   "execution_count": 27,
   "id": "245b5c1a",
   "metadata": {},
   "outputs": [
    {
     "name": "stdout",
     "output_type": "stream",
     "text": [
      "-4\n"
     ]
    },
    {
     "data": {
      "text/plain": [
       "True"
      ]
     },
     "execution_count": 27,
     "metadata": {},
     "output_type": "execute_result"
    }
   ],
   "source": [
    "monotone([5,4,3,2,1])"
   ]
  },
  {
   "cell_type": "code",
   "execution_count": 28,
   "id": "e2c5adde",
   "metadata": {},
   "outputs": [
    {
     "name": "stdout",
     "output_type": "stream",
     "text": [
      "0\n"
     ]
    },
    {
     "data": {
      "text/plain": [
       "False"
      ]
     },
     "execution_count": 28,
     "metadata": {},
     "output_type": "execute_result"
    }
   ],
   "source": [
    "monotone([1,2,3,2,1])"
   ]
  },
  {
   "cell_type": "code",
   "execution_count": 29,
   "id": "877255ea",
   "metadata": {},
   "outputs": [
    {
     "name": "stdout",
     "output_type": "stream",
     "text": [
      "4\n"
     ]
    },
    {
     "data": {
      "text/plain": [
       "True"
      ]
     },
     "execution_count": 29,
     "metadata": {},
     "output_type": "execute_result"
    }
   ],
   "source": [
    "monotone([1,2,2,3,4])"
   ]
  },
  {
   "cell_type": "code",
   "execution_count": 30,
   "id": "ea7af470",
   "metadata": {},
   "outputs": [
    {
     "name": "stdout",
     "output_type": "stream",
     "text": [
      "-4\n"
     ]
    },
    {
     "data": {
      "text/plain": [
       "True"
      ]
     },
     "execution_count": 30,
     "metadata": {},
     "output_type": "execute_result"
    }
   ],
   "source": [
    "monotone([5,4,3,3,2])"
   ]
  },
  {
   "cell_type": "code",
   "execution_count": 31,
   "id": "a781f4be",
   "metadata": {},
   "outputs": [
    {
     "name": "stdout",
     "output_type": "stream",
     "text": [
      "2\n"
     ]
    },
    {
     "data": {
      "text/plain": [
       "False"
      ]
     },
     "execution_count": 31,
     "metadata": {},
     "output_type": "execute_result"
    }
   ],
   "source": [
    "monotone([1,2,2,3,1])"
   ]
  }
 ],
 "metadata": {
  "kernelspec": {
   "display_name": "Python 3 (ipykernel)",
   "language": "python",
   "name": "python3"
  },
  "language_info": {
   "codemirror_mode": {
    "name": "ipython",
    "version": 3
   },
   "file_extension": ".py",
   "mimetype": "text/x-python",
   "name": "python",
   "nbconvert_exporter": "python",
   "pygments_lexer": "ipython3",
   "version": "3.9.12"
  }
 },
 "nbformat": 4,
 "nbformat_minor": 5
}
