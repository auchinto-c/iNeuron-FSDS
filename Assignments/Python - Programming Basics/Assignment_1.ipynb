{
 "cells": [
  {
   "cell_type": "markdown",
   "id": "0de525d9",
   "metadata": {},
   "source": [
    "1. Write a Python program to print \"Hello Python\"?"
   ]
  },
  {
   "cell_type": "code",
   "execution_count": 1,
   "id": "af8e502f",
   "metadata": {},
   "outputs": [
    {
     "name": "stdout",
     "output_type": "stream",
     "text": [
      "Hello Python\n"
     ]
    }
   ],
   "source": [
    "print('Hello Python')"
   ]
  },
  {
   "cell_type": "markdown",
   "id": "a7067dbd",
   "metadata": {},
   "source": [
    "2.\tWrite a Python program to do arithmetical operations addition and division.?"
   ]
  },
  {
   "cell_type": "code",
   "execution_count": 2,
   "id": "575da602",
   "metadata": {},
   "outputs": [
    {
     "name": "stdout",
     "output_type": "stream",
     "text": [
      "Addition:  25\n",
      "Division:  4.0\n"
     ]
    }
   ],
   "source": [
    "a = 20\n",
    "b = 5\n",
    "\n",
    "print('Addition: ', a + b)\n",
    "print('Division: ', a / b)"
   ]
  },
  {
   "cell_type": "markdown",
   "id": "5ef52836",
   "metadata": {},
   "source": [
    "3.\tWrite a Python program to find the area of a triangle?"
   ]
  },
  {
   "cell_type": "code",
   "execution_count": 4,
   "id": "b95167f9",
   "metadata": {},
   "outputs": [
    {
     "name": "stdout",
     "output_type": "stream",
     "text": [
      "Area of the triangle with height 15 and base 10: 75.0\n"
     ]
    }
   ],
   "source": [
    "base = 10\n",
    "height = 15\n",
    "\n",
    "area = 0.5 * base * height\n",
    "\n",
    "print(f'Area of the triangle with height {height} and base {base}: {area}')"
   ]
  },
  {
   "cell_type": "markdown",
   "id": "bf5261e6",
   "metadata": {},
   "source": [
    "4.\tWrite a Python program to swap two variables?"
   ]
  },
  {
   "cell_type": "code",
   "execution_count": 5,
   "id": "fa0f3eac",
   "metadata": {},
   "outputs": [
    {
     "name": "stdout",
     "output_type": "stream",
     "text": [
      "Values before swapping: a = 3, b = 8\n",
      "Values before swapping: a = 8, b = 3\n",
      "Values before swapping: a = 3, b = 8\n"
     ]
    }
   ],
   "source": [
    "a = 3\n",
    "b = 8\n",
    "\n",
    "print(f'Values before swapping: a = {a}, b = {b}')\n",
    "\n",
    "# Using a temporary variable\n",
    "temp = a\n",
    "a = b\n",
    "b = temp\n",
    "print(f'Values before swapping: a = {a}, b = {b}')\n",
    "\n",
    "# Without using a temporary variable\n",
    "a = a + b\n",
    "b = a - b\n",
    "a = a - b\n",
    "print(f'Values before swapping: a = {a}, b = {b}')"
   ]
  },
  {
   "cell_type": "markdown",
   "id": "d3ec0854",
   "metadata": {},
   "source": [
    "5.\tWrite a Python program to generate a random number?"
   ]
  },
  {
   "cell_type": "code",
   "execution_count": 8,
   "id": "32dfa4e8",
   "metadata": {},
   "outputs": [
    {
     "name": "stdout",
     "output_type": "stream",
     "text": [
      "Randomly generated integer between 1 and 100:  21\n"
     ]
    }
   ],
   "source": [
    "import random\n",
    "\n",
    "print('Randomly generated integer between 1 and 100: ', random.randint(1, 100))"
   ]
  },
  {
   "cell_type": "code",
   "execution_count": null,
   "id": "3be47c32",
   "metadata": {},
   "outputs": [],
   "source": []
  }
 ],
 "metadata": {
  "kernelspec": {
   "display_name": "Python 3 (ipykernel)",
   "language": "python",
   "name": "python3"
  },
  "language_info": {
   "codemirror_mode": {
    "name": "ipython",
    "version": 3
   },
   "file_extension": ".py",
   "mimetype": "text/x-python",
   "name": "python",
   "nbconvert_exporter": "python",
   "pygments_lexer": "ipython3",
   "version": "3.9.12"
  }
 },
 "nbformat": 4,
 "nbformat_minor": 5
}
