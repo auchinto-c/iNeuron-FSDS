{
 "cells": [
  {
   "cell_type": "markdown",
   "id": "f2fd4a8e",
   "metadata": {},
   "source": [
    "# Assignment 10"
   ]
  },
  {
   "cell_type": "markdown",
   "id": "a3eecee3",
   "metadata": {},
   "source": [
    "1.\tWrite a Python program to find sum of elements in list?\n"
   ]
  },
  {
   "cell_type": "code",
   "execution_count": 1,
   "id": "c9e87ef5",
   "metadata": {},
   "outputs": [
    {
     "name": "stdout",
     "output_type": "stream",
     "text": [
      "155\n"
     ]
    }
   ],
   "source": [
    "arr = [4,1,6,2,5,78,9,23,2,5,6,7,4,3]\n",
    "add = 0\n",
    "for i in arr:\n",
    "    add += i\n",
    "print(add)"
   ]
  },
  {
   "cell_type": "markdown",
   "id": "a7f8f697",
   "metadata": {},
   "source": [
    "2.\tWrite a Python program to  Multiply all numbers in the list?\n"
   ]
  },
  {
   "cell_type": "code",
   "execution_count": 2,
   "id": "4167a02a",
   "metadata": {},
   "outputs": [
    {
     "name": "stdout",
     "output_type": "stream",
     "text": [
      "19530201600\n"
     ]
    }
   ],
   "source": [
    "arr = [4,1,6,2,5,78,9,23,2,5,6,7,4,3]\n",
    "prod = 1\n",
    "for i in arr:\n",
    "    prod *= i\n",
    "print(prod)"
   ]
  },
  {
   "cell_type": "markdown",
   "id": "46c8da30",
   "metadata": {},
   "source": [
    "3.\tWrite a Python program to find smallest number in a list?\n"
   ]
  },
  {
   "cell_type": "code",
   "execution_count": 3,
   "id": "8379eec9",
   "metadata": {},
   "outputs": [
    {
     "name": "stdout",
     "output_type": "stream",
     "text": [
      "1\n"
     ]
    }
   ],
   "source": [
    "arr = [4,1,6,2,5,78,9,23,2,5,6,7,4,3]\n",
    "mini = 9999\n",
    "for i in arr:\n",
    "    if i < mini: mini = i\n",
    "print(mini)"
   ]
  },
  {
   "cell_type": "code",
   "execution_count": 8,
   "id": "84612a21",
   "metadata": {},
   "outputs": [
    {
     "data": {
      "text/plain": [
       "1"
      ]
     },
     "execution_count": 8,
     "metadata": {},
     "output_type": "execute_result"
    }
   ],
   "source": [
    "min([4,1,6,2,5,78,9,23,2,5,6,7,4,3])"
   ]
  },
  {
   "cell_type": "markdown",
   "id": "f6c6df9f",
   "metadata": {},
   "source": [
    "4.\tWrite a Python program to find largest number in a list?\n"
   ]
  },
  {
   "cell_type": "code",
   "execution_count": 4,
   "id": "f0c6e271",
   "metadata": {},
   "outputs": [
    {
     "name": "stdout",
     "output_type": "stream",
     "text": [
      "78\n"
     ]
    }
   ],
   "source": [
    "arr = [4,1,6,2,5,78,9,23,2,5,6,7,4,3]\n",
    "maxi = -9999\n",
    "for i in arr:\n",
    "    if i > maxi: maxi = i\n",
    "print(maxi)"
   ]
  },
  {
   "cell_type": "code",
   "execution_count": 9,
   "id": "018f5264",
   "metadata": {},
   "outputs": [
    {
     "data": {
      "text/plain": [
       "78"
      ]
     },
     "execution_count": 9,
     "metadata": {},
     "output_type": "execute_result"
    }
   ],
   "source": [
    "max([4,1,6,2,5,78,9,23,2,5,6,7,4,3])"
   ]
  },
  {
   "cell_type": "markdown",
   "id": "15c1a34b",
   "metadata": {},
   "source": [
    "5.\tWrite a Python program to find second largest number in a list?\n"
   ]
  },
  {
   "cell_type": "code",
   "execution_count": 5,
   "id": "35d1ad50",
   "metadata": {},
   "outputs": [
    {
     "name": "stdout",
     "output_type": "stream",
     "text": [
      "23\n"
     ]
    }
   ],
   "source": [
    "arr = [4,1,6,2,5,78,9,23,2,5,6,7,4,3]\n",
    "maxi = -9999\n",
    "for i in arr:\n",
    "    if i > maxi: maxi = i\n",
    "\n",
    "arr.remove(maxi)\n",
    "maxi = -9999\n",
    "for i in arr:\n",
    "    if i > maxi: maxi = i\n",
    "print(maxi)"
   ]
  },
  {
   "cell_type": "code",
   "execution_count": 10,
   "id": "5403b7a2",
   "metadata": {},
   "outputs": [
    {
     "data": {
      "text/plain": [
       "23"
      ]
     },
     "execution_count": 10,
     "metadata": {},
     "output_type": "execute_result"
    }
   ],
   "source": [
    "arr = [4,1,6,2,5,78,9,23,2,5,6,7,4,3]\n",
    "maxi1 = max(arr)\n",
    "arr.remove(maxi1)\n",
    "maxi2 = max(arr)\n",
    "maxi2"
   ]
  },
  {
   "cell_type": "markdown",
   "id": "e6970c4f",
   "metadata": {},
   "source": [
    "6.\tWrite a Python program to find N largest elements from a list?\n"
   ]
  },
  {
   "cell_type": "code",
   "execution_count": 7,
   "id": "c7090d6c",
   "metadata": {},
   "outputs": [
    {
     "name": "stdout",
     "output_type": "stream",
     "text": [
      "[78, 23, 9, 7, 6]\n"
     ]
    }
   ],
   "source": [
    "arr = [4,1,6,2,5,78,9,23,2,5,6,7,4,3]\n",
    "n = 5\n",
    "for i in range(len(arr)):\n",
    "    for j in range(i+1, len(arr)):\n",
    "        if arr[i] < arr[j]:\n",
    "            temp = arr[i]\n",
    "            arr[i] = arr[j]\n",
    "            arr[j] = temp\n",
    "\n",
    "print(arr[:min(n, len(arr))])"
   ]
  },
  {
   "cell_type": "code",
   "execution_count": 11,
   "id": "b443f6b9",
   "metadata": {},
   "outputs": [
    {
     "data": {
      "text/plain": [
       "[78, 23, 9, 7, 6]"
      ]
     },
     "execution_count": 11,
     "metadata": {},
     "output_type": "execute_result"
    }
   ],
   "source": [
    "arr = [4,1,6,2,5,78,9,23,2,5,6,7,4,3]\n",
    "n = 5\n",
    "sorted(arr, reverse=True)[:min(n, len(arr))]"
   ]
  },
  {
   "cell_type": "markdown",
   "id": "4dc4024c",
   "metadata": {},
   "source": [
    "7.\tWrite a Python program to print even numbers in a list?\n"
   ]
  },
  {
   "cell_type": "code",
   "execution_count": 12,
   "id": "c34a8c9a",
   "metadata": {},
   "outputs": [
    {
     "name": "stdout",
     "output_type": "stream",
     "text": [
      "0\n",
      "2\n",
      "4\n",
      "6\n",
      "8\n",
      "10\n",
      "12\n",
      "14\n",
      "16\n",
      "18\n"
     ]
    }
   ],
   "source": [
    "n = 10\n",
    "i = 0\n",
    "cnt = 0\n",
    "while cnt < n:\n",
    "    if i % 2 == 0:\n",
    "        print(i)\n",
    "        cnt += 1\n",
    "    i += 1"
   ]
  },
  {
   "cell_type": "markdown",
   "id": "a2c5e75a",
   "metadata": {},
   "source": [
    "8.\tWrite a Python program to print odd numbers in a List?\n"
   ]
  },
  {
   "cell_type": "code",
   "execution_count": 13,
   "id": "80c39b4d",
   "metadata": {},
   "outputs": [
    {
     "name": "stdout",
     "output_type": "stream",
     "text": [
      "1\n",
      "3\n",
      "5\n",
      "7\n",
      "9\n",
      "11\n",
      "13\n",
      "15\n",
      "17\n",
      "19\n"
     ]
    }
   ],
   "source": [
    "n = 10\n",
    "i = 0\n",
    "cnt = 0\n",
    "while cnt < n:\n",
    "    if i % 2 != 0:\n",
    "        print(i)\n",
    "        cnt += 1\n",
    "    i += 1"
   ]
  },
  {
   "cell_type": "markdown",
   "id": "e364b536",
   "metadata": {},
   "source": [
    "9.\tWrite a Python program to Remove empty List from List?\n"
   ]
  },
  {
   "cell_type": "code",
   "execution_count": 22,
   "id": "e3d4255f",
   "metadata": {},
   "outputs": [
    {
     "data": {
      "text/plain": [
       "[[1, 2, 3], [2, 4]]"
      ]
     },
     "execution_count": 22,
     "metadata": {},
     "output_type": "execute_result"
    }
   ],
   "source": [
    "arr = [[1,2,3], [], [2,4]]\n",
    "arr.remove([])\n",
    "arr"
   ]
  },
  {
   "cell_type": "code",
   "execution_count": 23,
   "id": "5213fd6a",
   "metadata": {},
   "outputs": [
    {
     "data": {
      "text/plain": [
       "[[1, 2, 3], [2, 4]]"
      ]
     },
     "execution_count": 23,
     "metadata": {},
     "output_type": "execute_result"
    }
   ],
   "source": [
    "arr = [[1,2,3], [], [2,4]]\n",
    "new_arr = [i for i in arr if i != []]\n",
    "arr = new_arr\n",
    "arr"
   ]
  },
  {
   "cell_type": "code",
   "execution_count": 24,
   "id": "1b39b40f",
   "metadata": {},
   "outputs": [
    {
     "data": {
      "text/plain": [
       "[[1, 2, 3], [2, 4]]"
      ]
     },
     "execution_count": 24,
     "metadata": {},
     "output_type": "execute_result"
    }
   ],
   "source": [
    "arr = [[1,2,3], [], [2,4]]\n",
    "new_arr = []\n",
    "for i in arr:\n",
    "    if i != []: new_arr.append(i)\n",
    "arr = new_arr\n",
    "arr"
   ]
  },
  {
   "cell_type": "markdown",
   "id": "f4dd54ff",
   "metadata": {},
   "source": [
    "10.\tWrite a Python program to Cloning or Copying a list?\n"
   ]
  },
  {
   "cell_type": "code",
   "execution_count": 19,
   "id": "6e59d496",
   "metadata": {},
   "outputs": [
    {
     "data": {
      "text/plain": [
       "[4, 1, 6, 2, 5, 2, 9, 23, 2, 5, 6, 7, 4, 3]"
      ]
     },
     "execution_count": 19,
     "metadata": {},
     "output_type": "execute_result"
    }
   ],
   "source": [
    "arr = [4,1,6,2,5,2,9,23,2,5,6,7,4,3]\n",
    "new_arr = arr.copy()\n",
    "new_arr"
   ]
  },
  {
   "cell_type": "code",
   "execution_count": 20,
   "id": "9370efb4",
   "metadata": {},
   "outputs": [
    {
     "data": {
      "text/plain": [
       "[4, 1, 6, 2, 5, 2, 9, 23, 2, 5, 6, 7, 4, 3]"
      ]
     },
     "execution_count": 20,
     "metadata": {},
     "output_type": "execute_result"
    }
   ],
   "source": [
    "arr = [4,1,6,2,5,2,9,23,2,5,6,7,4,3]\n",
    "new_arr = [i for i in arr]\n",
    "new_arr"
   ]
  },
  {
   "cell_type": "code",
   "execution_count": 21,
   "id": "c71dff65",
   "metadata": {},
   "outputs": [
    {
     "data": {
      "text/plain": [
       "[4, 1, 6, 2, 5, 2, 9, 23, 2, 5, 6, 7, 4, 3]"
      ]
     },
     "execution_count": 21,
     "metadata": {},
     "output_type": "execute_result"
    }
   ],
   "source": [
    "arr = [4,1,6,2,5,2,9,23,2,5,6,7,4,3]\n",
    "new_arr = []\n",
    "\n",
    "for i in arr:\n",
    "    new_arr.append(i)\n",
    "    \n",
    "new_arr"
   ]
  },
  {
   "cell_type": "markdown",
   "id": "95582f8a",
   "metadata": {},
   "source": [
    "11.\tWrite a Python program to Count occurrences of an element in a list?\n"
   ]
  },
  {
   "cell_type": "code",
   "execution_count": 15,
   "id": "a35ef24c",
   "metadata": {},
   "outputs": [
    {
     "name": "stdout",
     "output_type": "stream",
     "text": [
      "3\n"
     ]
    }
   ],
   "source": [
    "arr = [4,1,6,2,5,2,9,23,2,5,6,7,4,3]\n",
    "elem = 2\n",
    "cnt = 0\n",
    "\n",
    "for i in arr:\n",
    "    if i == elem:\n",
    "        cnt += 1\n",
    "print(cnt)"
   ]
  },
  {
   "cell_type": "code",
   "execution_count": 16,
   "id": "c7e7043e",
   "metadata": {},
   "outputs": [
    {
     "name": "stdout",
     "output_type": "stream",
     "text": [
      "{4: 2, 1: 1, 6: 2, 2: 3, 5: 2, 9: 1, 23: 1, 7: 1, 3: 1}\n"
     ]
    }
   ],
   "source": [
    "arr = [4,1,6,2,5,2,9,23,2,5,6,7,4,3]\n",
    "freq_dt = {}\n",
    "\n",
    "for i in arr:\n",
    "    if i not in freq_dt:\n",
    "        freq_dt[i] = 1\n",
    "    else:\n",
    "        freq_dt[i] += 1\n",
    "\n",
    "print(freq_dt)"
   ]
  },
  {
   "cell_type": "code",
   "execution_count": 17,
   "id": "86131cdc",
   "metadata": {},
   "outputs": [
    {
     "data": {
      "text/plain": [
       "Counter({4: 2, 1: 1, 6: 2, 2: 3, 5: 2, 9: 1, 23: 1, 7: 1, 3: 1})"
      ]
     },
     "execution_count": 17,
     "metadata": {},
     "output_type": "execute_result"
    }
   ],
   "source": [
    "from collections import Counter\n",
    "\n",
    "Counter(arr)"
   ]
  }
 ],
 "metadata": {
  "kernelspec": {
   "display_name": "Python 3 (ipykernel)",
   "language": "python",
   "name": "python3"
  },
  "language_info": {
   "codemirror_mode": {
    "name": "ipython",
    "version": 3
   },
   "file_extension": ".py",
   "mimetype": "text/x-python",
   "name": "python",
   "nbconvert_exporter": "python",
   "pygments_lexer": "ipython3",
   "version": "3.9.12"
  }
 },
 "nbformat": 4,
 "nbformat_minor": 5
}
