{
 "cells": [
  {
   "cell_type": "markdown",
   "id": "12a8712a",
   "metadata": {},
   "source": [
    "# Assignment 11"
   ]
  },
  {
   "cell_type": "markdown",
   "id": "23d2d2f8",
   "metadata": {},
   "source": [
    "## Use the Superstore_USA data and find the following scenarios:"
   ]
  },
  {
   "cell_type": "markdown",
   "id": "278c4856",
   "metadata": {},
   "source": [
    "#### Import packages"
   ]
  },
  {
   "cell_type": "code",
   "execution_count": 3,
   "id": "5a865789",
   "metadata": {},
   "outputs": [],
   "source": [
    "import pandas as pd\n",
    "import numpy as np\n",
    "import matplotlib.pyplot as plt\n",
    "%matplotlib inline"
   ]
  },
  {
   "cell_type": "markdown",
   "id": "32ff6278",
   "metadata": {},
   "source": [
    "### Q1: Create a Bar chart showing the sales in terms of product Sub Category"
   ]
  },
  {
   "cell_type": "markdown",
   "id": "dd7b46ec",
   "metadata": {},
   "source": [
    "#### Import data from excel sheet (Superstore_USA.xlsx)"
   ]
  },
  {
   "cell_type": "code",
   "execution_count": 4,
   "id": "2319d2ce",
   "metadata": {},
   "outputs": [
    {
     "data": {
      "text/html": [
       "<div>\n",
       "<style scoped>\n",
       "    .dataframe tbody tr th:only-of-type {\n",
       "        vertical-align: middle;\n",
       "    }\n",
       "\n",
       "    .dataframe tbody tr th {\n",
       "        vertical-align: top;\n",
       "    }\n",
       "\n",
       "    .dataframe thead th {\n",
       "        text-align: right;\n",
       "    }\n",
       "</style>\n",
       "<table border=\"1\" class=\"dataframe\">\n",
       "  <thead>\n",
       "    <tr style=\"text-align: right;\">\n",
       "      <th></th>\n",
       "      <th>Row ID</th>\n",
       "      <th>Order Priority</th>\n",
       "      <th>Discount</th>\n",
       "      <th>Unit Price</th>\n",
       "      <th>Shipping Cost</th>\n",
       "      <th>Customer ID</th>\n",
       "      <th>Customer Name</th>\n",
       "      <th>Ship Mode</th>\n",
       "      <th>Customer Segment</th>\n",
       "      <th>Product Category</th>\n",
       "      <th>...</th>\n",
       "      <th>Region</th>\n",
       "      <th>State or Province</th>\n",
       "      <th>City</th>\n",
       "      <th>Postal Code</th>\n",
       "      <th>Order Date</th>\n",
       "      <th>Ship Date</th>\n",
       "      <th>Profit</th>\n",
       "      <th>Quantity ordered new</th>\n",
       "      <th>Sales</th>\n",
       "      <th>Order ID</th>\n",
       "    </tr>\n",
       "  </thead>\n",
       "  <tbody>\n",
       "    <tr>\n",
       "      <th>0</th>\n",
       "      <td>18606</td>\n",
       "      <td>Not Specified</td>\n",
       "      <td>0.01</td>\n",
       "      <td>2.88</td>\n",
       "      <td>0.50</td>\n",
       "      <td>2</td>\n",
       "      <td>Janice Fletcher</td>\n",
       "      <td>Regular Air</td>\n",
       "      <td>Corporate</td>\n",
       "      <td>Office Supplies</td>\n",
       "      <td>...</td>\n",
       "      <td>Central</td>\n",
       "      <td>Illinois</td>\n",
       "      <td>Addison</td>\n",
       "      <td>60101</td>\n",
       "      <td>2012-05-28</td>\n",
       "      <td>2012-05-30</td>\n",
       "      <td>1.3200</td>\n",
       "      <td>2</td>\n",
       "      <td>5.90</td>\n",
       "      <td>88525</td>\n",
       "    </tr>\n",
       "    <tr>\n",
       "      <th>1</th>\n",
       "      <td>20847</td>\n",
       "      <td>High</td>\n",
       "      <td>0.01</td>\n",
       "      <td>2.84</td>\n",
       "      <td>0.93</td>\n",
       "      <td>3</td>\n",
       "      <td>Bonnie Potter</td>\n",
       "      <td>Express Air</td>\n",
       "      <td>Corporate</td>\n",
       "      <td>Office Supplies</td>\n",
       "      <td>...</td>\n",
       "      <td>West</td>\n",
       "      <td>Washington</td>\n",
       "      <td>Anacortes</td>\n",
       "      <td>98221</td>\n",
       "      <td>2010-07-07</td>\n",
       "      <td>2010-07-08</td>\n",
       "      <td>4.5600</td>\n",
       "      <td>4</td>\n",
       "      <td>13.01</td>\n",
       "      <td>88522</td>\n",
       "    </tr>\n",
       "    <tr>\n",
       "      <th>2</th>\n",
       "      <td>23086</td>\n",
       "      <td>Not Specified</td>\n",
       "      <td>0.03</td>\n",
       "      <td>6.68</td>\n",
       "      <td>6.15</td>\n",
       "      <td>3</td>\n",
       "      <td>Bonnie Potter</td>\n",
       "      <td>Express Air</td>\n",
       "      <td>Corporate</td>\n",
       "      <td>Office Supplies</td>\n",
       "      <td>...</td>\n",
       "      <td>West</td>\n",
       "      <td>Washington</td>\n",
       "      <td>Anacortes</td>\n",
       "      <td>98221</td>\n",
       "      <td>2011-07-27</td>\n",
       "      <td>2011-07-28</td>\n",
       "      <td>-47.6400</td>\n",
       "      <td>7</td>\n",
       "      <td>49.92</td>\n",
       "      <td>88523</td>\n",
       "    </tr>\n",
       "    <tr>\n",
       "      <th>3</th>\n",
       "      <td>23087</td>\n",
       "      <td>Not Specified</td>\n",
       "      <td>0.01</td>\n",
       "      <td>5.68</td>\n",
       "      <td>3.60</td>\n",
       "      <td>3</td>\n",
       "      <td>Bonnie Potter</td>\n",
       "      <td>Regular Air</td>\n",
       "      <td>Corporate</td>\n",
       "      <td>Office Supplies</td>\n",
       "      <td>...</td>\n",
       "      <td>West</td>\n",
       "      <td>Washington</td>\n",
       "      <td>Anacortes</td>\n",
       "      <td>98221</td>\n",
       "      <td>2011-07-27</td>\n",
       "      <td>2011-07-28</td>\n",
       "      <td>-30.5100</td>\n",
       "      <td>7</td>\n",
       "      <td>41.64</td>\n",
       "      <td>88523</td>\n",
       "    </tr>\n",
       "    <tr>\n",
       "      <th>4</th>\n",
       "      <td>23088</td>\n",
       "      <td>Not Specified</td>\n",
       "      <td>0.00</td>\n",
       "      <td>205.99</td>\n",
       "      <td>2.50</td>\n",
       "      <td>3</td>\n",
       "      <td>Bonnie Potter</td>\n",
       "      <td>Express Air</td>\n",
       "      <td>Corporate</td>\n",
       "      <td>Technology</td>\n",
       "      <td>...</td>\n",
       "      <td>West</td>\n",
       "      <td>Washington</td>\n",
       "      <td>Anacortes</td>\n",
       "      <td>98221</td>\n",
       "      <td>2011-07-27</td>\n",
       "      <td>2011-07-27</td>\n",
       "      <td>998.2023</td>\n",
       "      <td>8</td>\n",
       "      <td>1446.67</td>\n",
       "      <td>88523</td>\n",
       "    </tr>\n",
       "  </tbody>\n",
       "</table>\n",
       "<p>5 rows × 24 columns</p>\n",
       "</div>"
      ],
      "text/plain": [
       "   Row ID Order Priority  Discount  Unit Price  Shipping Cost  Customer ID  \\\n",
       "0   18606  Not Specified      0.01        2.88           0.50            2   \n",
       "1   20847           High      0.01        2.84           0.93            3   \n",
       "2   23086  Not Specified      0.03        6.68           6.15            3   \n",
       "3   23087  Not Specified      0.01        5.68           3.60            3   \n",
       "4   23088  Not Specified      0.00      205.99           2.50            3   \n",
       "\n",
       "     Customer Name    Ship Mode Customer Segment Product Category  ...  \\\n",
       "0  Janice Fletcher  Regular Air        Corporate  Office Supplies  ...   \n",
       "1    Bonnie Potter  Express Air        Corporate  Office Supplies  ...   \n",
       "2    Bonnie Potter  Express Air        Corporate  Office Supplies  ...   \n",
       "3    Bonnie Potter  Regular Air        Corporate  Office Supplies  ...   \n",
       "4    Bonnie Potter  Express Air        Corporate       Technology  ...   \n",
       "\n",
       "    Region State or Province       City  Postal Code Order Date  Ship Date  \\\n",
       "0  Central          Illinois    Addison        60101 2012-05-28 2012-05-30   \n",
       "1     West        Washington  Anacortes        98221 2010-07-07 2010-07-08   \n",
       "2     West        Washington  Anacortes        98221 2011-07-27 2011-07-28   \n",
       "3     West        Washington  Anacortes        98221 2011-07-27 2011-07-28   \n",
       "4     West        Washington  Anacortes        98221 2011-07-27 2011-07-27   \n",
       "\n",
       "     Profit  Quantity ordered new    Sales Order ID  \n",
       "0    1.3200                     2     5.90    88525  \n",
       "1    4.5600                     4    13.01    88522  \n",
       "2  -47.6400                     7    49.92    88523  \n",
       "3  -30.5100                     7    41.64    88523  \n",
       "4  998.2023                     8  1446.67    88523  \n",
       "\n",
       "[5 rows x 24 columns]"
      ]
     },
     "execution_count": 4,
     "metadata": {},
     "output_type": "execute_result"
    }
   ],
   "source": [
    "data = pd.read_excel('Superstore_USA.xlsx')\n",
    "data.head()"
   ]
  },
  {
   "cell_type": "code",
   "execution_count": 5,
   "id": "aeef6c8a",
   "metadata": {},
   "outputs": [
    {
     "data": {
      "text/plain": [
       "Index(['Row ID', 'Order Priority', 'Discount', 'Unit Price', 'Shipping Cost',\n",
       "       'Customer ID', 'Customer Name', 'Ship Mode', 'Customer Segment',\n",
       "       'Product Category', 'Product Sub-Category', 'Product Container',\n",
       "       'Product Name', 'Product Base Margin', 'Region', 'State or Province',\n",
       "       'City', 'Postal Code', 'Order Date', 'Ship Date', 'Profit',\n",
       "       'Quantity ordered new', 'Sales', 'Order ID'],\n",
       "      dtype='object')"
      ]
     },
     "execution_count": 5,
     "metadata": {},
     "output_type": "execute_result"
    }
   ],
   "source": [
    "columns = data.columns\n",
    "columns"
   ]
  },
  {
   "cell_type": "code",
   "execution_count": 83,
   "id": "a9eea9c6",
   "metadata": {},
   "outputs": [
    {
     "data": {
      "text/plain": [
       "Row ID                           int64\n",
       "Order Priority                  object\n",
       "Discount                       float64\n",
       "Unit Price                     float64\n",
       "Shipping Cost                  float64\n",
       "Customer ID                      int64\n",
       "Customer Name                   object\n",
       "Ship Mode                       object\n",
       "Customer Segment                object\n",
       "Product Category                object\n",
       "Product Sub-Category            object\n",
       "Product Container               object\n",
       "Product Name                    object\n",
       "Product Base Margin            float64\n",
       "Region                          object\n",
       "State or Province               object\n",
       "City                            object\n",
       "Postal Code                      int64\n",
       "Order Date              datetime64[ns]\n",
       "Ship Date               datetime64[ns]\n",
       "Profit                         float64\n",
       "Quantity ordered new             int64\n",
       "Sales                          float64\n",
       "Order ID                         int64\n",
       "dtype: object"
      ]
     },
     "execution_count": 83,
     "metadata": {},
     "output_type": "execute_result"
    }
   ],
   "source": [
    "data.dtypes"
   ]
  },
  {
   "cell_type": "code",
   "execution_count": 6,
   "id": "70f37a2c",
   "metadata": {},
   "outputs": [
    {
     "data": {
      "text/plain": [
       "0                           Labels\n",
       "1              Pens & Art Supplies\n",
       "2                            Paper\n",
       "3    Scissors, Rulers and Trimmers\n",
       "4     Telephones and Communication\n",
       "5                            Paper\n",
       "6                  Office Machines\n",
       "7               Chairs & Chairmats\n",
       "8                            Paper\n",
       "9                       Appliances\n",
       "Name: Product Sub-Category, dtype: object"
      ]
     },
     "execution_count": 6,
     "metadata": {},
     "output_type": "execute_result"
    }
   ],
   "source": [
    "data['Product Sub-Category'].head(10)"
   ]
  },
  {
   "cell_type": "markdown",
   "id": "da3ebf49",
   "metadata": {},
   "source": [
    "#### Grouping the data by 'Product Sub-Category' and summing up the sales for each group"
   ]
  },
  {
   "cell_type": "code",
   "execution_count": 14,
   "id": "c5cf6f8a",
   "metadata": {},
   "outputs": [
    {
     "data": {
      "text/plain": [
       "Product Sub-Category\n",
       "Appliances                         456723.08\n",
       "Binders and Binder Accessories     638582.09\n",
       "Bookcases                          507494.49\n",
       "Chairs & Chairmats                1164584.16\n",
       "Computer Peripherals               490840.53\n",
       "Copiers and Fax                    661211.93\n",
       "Envelopes                          147921.03\n",
       "Labels                              23449.90\n",
       "Office Furnishings                 444624.03\n",
       "Office Machines                   1218656.59\n",
       "Paper                              253600.31\n",
       "Pens & Art Supplies                103251.59\n",
       "Rubber Bands                         8663.77\n",
       "Scissors, Rulers and Trimmers       40428.87\n",
       "Storage & Organization             585704.91\n",
       "Tables                            1061921.06\n",
       "Telephones and Communication      1144272.98\n",
       "Name: Sales, dtype: float64"
      ]
     },
     "execution_count": 14,
     "metadata": {},
     "output_type": "execute_result"
    }
   ],
   "source": [
    "sales_per_sub_category = data.groupby('Product Sub-Category').sum()['Sales']\n",
    "sales_per_sub_category"
   ]
  },
  {
   "cell_type": "markdown",
   "id": "fc77e9af",
   "metadata": {},
   "source": [
    "#### Plot Product Sub-Category v/s Sales"
   ]
  },
  {
   "cell_type": "code",
   "execution_count": 16,
   "id": "c6335f14",
   "metadata": {},
   "outputs": [
    {
     "data": {
      "text/plain": [
       "Index(['Appliances', 'Binders and Binder Accessories', 'Bookcases',\n",
       "       'Chairs & Chairmats', 'Computer Peripherals', 'Copiers and Fax',\n",
       "       'Envelopes', 'Labels', 'Office Furnishings', 'Office Machines', 'Paper',\n",
       "       'Pens & Art Supplies', 'Rubber Bands', 'Scissors, Rulers and Trimmers',\n",
       "       'Storage & Organization', 'Tables', 'Telephones and Communication'],\n",
       "      dtype='object', name='Product Sub-Category')"
      ]
     },
     "execution_count": 16,
     "metadata": {},
     "output_type": "execute_result"
    }
   ],
   "source": [
    "x = sales_per_sub_category.index\n",
    "x"
   ]
  },
  {
   "cell_type": "code",
   "execution_count": 17,
   "id": "a1ae8f45",
   "metadata": {},
   "outputs": [
    {
     "data": {
      "text/plain": [
       "array([ 456723.08,  638582.09,  507494.49, 1164584.16,  490840.53,\n",
       "        661211.93,  147921.03,   23449.9 ,  444624.03, 1218656.59,\n",
       "        253600.31,  103251.59,    8663.77,   40428.87,  585704.91,\n",
       "       1061921.06, 1144272.98])"
      ]
     },
     "execution_count": 17,
     "metadata": {},
     "output_type": "execute_result"
    }
   ],
   "source": [
    "heights = sales_per_sub_category.values\n",
    "heights"
   ]
  },
  {
   "cell_type": "code",
   "execution_count": 42,
   "id": "42bb9d6f",
   "metadata": {},
   "outputs": [
    {
     "data": {
      "image/png": "[encoded data removed]",
      "text/plain": [
       "<Figure size 432x288 with 1 Axes>"
      ]
     },
     "metadata": {
      "needs_background": "light"
     },
     "output_type": "display_data"
    }
   ],
   "source": [
    "plt.barh(x, heights, label='Product Sub-Category')\n",
    "plt.ylabel('Product Sub-Category')\n",
    "plt.xlabel('Sales in 1e6')\n",
    "plt.show()"
   ]
  },
  {
   "cell_type": "markdown",
   "id": "cb1fd20f",
   "metadata": {},
   "source": [
    "### Q2: Create a SET of the top 10 Customer and Use it to show the Customer which comes within the SET"
   ]
  },
  {
   "cell_type": "markdown",
   "id": "93ffa469",
   "metadata": {},
   "source": [
    "#### Group by Customer ID, Sum on Sales per customer, sort by sales in decreasing order and select the top 10"
   ]
  },
  {
   "cell_type": "code",
   "execution_count": 80,
   "id": "bac2e252",
   "metadata": {},
   "outputs": [
    {
     "data": {
      "text/html": [
       "<div>\n",
       "<style scoped>\n",
       "    .dataframe tbody tr th:only-of-type {\n",
       "        vertical-align: middle;\n",
       "    }\n",
       "\n",
       "    .dataframe tbody tr th {\n",
       "        vertical-align: top;\n",
       "    }\n",
       "\n",
       "    .dataframe thead th {\n",
       "        text-align: right;\n",
       "    }\n",
       "</style>\n",
       "<table border=\"1\" class=\"dataframe\">\n",
       "  <thead>\n",
       "    <tr style=\"text-align: right;\">\n",
       "      <th></th>\n",
       "      <th>Sales</th>\n",
       "    </tr>\n",
       "    <tr>\n",
       "      <th>Customer ID</th>\n",
       "      <th></th>\n",
       "    </tr>\n",
       "  </thead>\n",
       "  <tbody>\n",
       "    <tr>\n",
       "      <th>2</th>\n",
       "      <td>5.90</td>\n",
       "    </tr>\n",
       "    <tr>\n",
       "      <th>3</th>\n",
       "      <td>5014.28</td>\n",
       "    </tr>\n",
       "    <tr>\n",
       "      <th>5</th>\n",
       "      <td>6476.10</td>\n",
       "    </tr>\n",
       "    <tr>\n",
       "      <th>6</th>\n",
       "      <td>3332.31</td>\n",
       "    </tr>\n",
       "    <tr>\n",
       "      <th>7</th>\n",
       "      <td>232.95</td>\n",
       "    </tr>\n",
       "    <tr>\n",
       "      <th>...</th>\n",
       "      <td>...</td>\n",
       "    </tr>\n",
       "    <tr>\n",
       "      <th>3398</th>\n",
       "      <td>9154.64</td>\n",
       "    </tr>\n",
       "    <tr>\n",
       "      <th>3399</th>\n",
       "      <td>2308.87</td>\n",
       "    </tr>\n",
       "    <tr>\n",
       "      <th>3400</th>\n",
       "      <td>1924.32</td>\n",
       "    </tr>\n",
       "    <tr>\n",
       "      <th>3402</th>\n",
       "      <td>4646.34</td>\n",
       "    </tr>\n",
       "    <tr>\n",
       "      <th>3403</th>\n",
       "      <td>678.98</td>\n",
       "    </tr>\n",
       "  </tbody>\n",
       "</table>\n",
       "<p>2703 rows × 1 columns</p>\n",
       "</div>"
      ],
      "text/plain": [
       "               Sales\n",
       "Customer ID         \n",
       "2               5.90\n",
       "3            5014.28\n",
       "5            6476.10\n",
       "6            3332.31\n",
       "7             232.95\n",
       "...              ...\n",
       "3398         9154.64\n",
       "3399         2308.87\n",
       "3400         1924.32\n",
       "3402         4646.34\n",
       "3403          678.98\n",
       "\n",
       "[2703 rows x 1 columns]"
      ]
     },
     "execution_count": 80,
     "metadata": {},
     "output_type": "execute_result"
    }
   ],
   "source": [
    "customer_sales = pd.DataFrame(data.groupby('Customer ID').sum()['Sales'])\n",
    "customer_sales"
   ]
  },
  {
   "cell_type": "code",
   "execution_count": 81,
   "id": "24589d99",
   "metadata": {},
   "outputs": [
    {
     "data": {
      "text/html": [
       "<div>\n",
       "<style scoped>\n",
       "    .dataframe tbody tr th:only-of-type {\n",
       "        vertical-align: middle;\n",
       "    }\n",
       "\n",
       "    .dataframe tbody tr th {\n",
       "        vertical-align: top;\n",
       "    }\n",
       "\n",
       "    .dataframe thead th {\n",
       "        text-align: right;\n",
       "    }\n",
       "</style>\n",
       "<table border=\"1\" class=\"dataframe\">\n",
       "  <thead>\n",
       "    <tr style=\"text-align: right;\">\n",
       "      <th></th>\n",
       "      <th>Sales</th>\n",
       "      <th>Customer ID</th>\n",
       "    </tr>\n",
       "  </thead>\n",
       "  <tbody>\n",
       "    <tr>\n",
       "      <th>0</th>\n",
       "      <td>5.90</td>\n",
       "      <td>2</td>\n",
       "    </tr>\n",
       "    <tr>\n",
       "      <th>1</th>\n",
       "      <td>5014.28</td>\n",
       "      <td>3</td>\n",
       "    </tr>\n",
       "    <tr>\n",
       "      <th>2</th>\n",
       "      <td>6476.10</td>\n",
       "      <td>5</td>\n",
       "    </tr>\n",
       "    <tr>\n",
       "      <th>3</th>\n",
       "      <td>3332.31</td>\n",
       "      <td>6</td>\n",
       "    </tr>\n",
       "    <tr>\n",
       "      <th>4</th>\n",
       "      <td>232.95</td>\n",
       "      <td>7</td>\n",
       "    </tr>\n",
       "    <tr>\n",
       "      <th>...</th>\n",
       "      <td>...</td>\n",
       "      <td>...</td>\n",
       "    </tr>\n",
       "    <tr>\n",
       "      <th>2698</th>\n",
       "      <td>9154.64</td>\n",
       "      <td>3398</td>\n",
       "    </tr>\n",
       "    <tr>\n",
       "      <th>2699</th>\n",
       "      <td>2308.87</td>\n",
       "      <td>3399</td>\n",
       "    </tr>\n",
       "    <tr>\n",
       "      <th>2700</th>\n",
       "      <td>1924.32</td>\n",
       "      <td>3400</td>\n",
       "    </tr>\n",
       "    <tr>\n",
       "      <th>2701</th>\n",
       "      <td>4646.34</td>\n",
       "      <td>3402</td>\n",
       "    </tr>\n",
       "    <tr>\n",
       "      <th>2702</th>\n",
       "      <td>678.98</td>\n",
       "      <td>3403</td>\n",
       "    </tr>\n",
       "  </tbody>\n",
       "</table>\n",
       "<p>2703 rows × 2 columns</p>\n",
       "</div>"
      ],
      "text/plain": [
       "        Sales  Customer ID\n",
       "0        5.90            2\n",
       "1     5014.28            3\n",
       "2     6476.10            5\n",
       "3     3332.31            6\n",
       "4      232.95            7\n",
       "...       ...          ...\n",
       "2698  9154.64         3398\n",
       "2699  2308.87         3399\n",
       "2700  1924.32         3400\n",
       "2701  4646.34         3402\n",
       "2702   678.98         3403\n",
       "\n",
       "[2703 rows x 2 columns]"
      ]
     },
     "execution_count": 81,
     "metadata": {},
     "output_type": "execute_result"
    }
   ],
   "source": [
    "customer_sales['Customer ID'] = customer_sales.index\n",
    "customer_sales.reset_index(drop=True, inplace=True)\n",
    "customer_sales"
   ]
  },
  {
   "cell_type": "code",
   "execution_count": 82,
   "id": "27dfd2c7",
   "metadata": {},
   "outputs": [
    {
     "data": {
      "text/html": [
       "<div>\n",
       "<style scoped>\n",
       "    .dataframe tbody tr th:only-of-type {\n",
       "        vertical-align: middle;\n",
       "    }\n",
       "\n",
       "    .dataframe tbody tr th {\n",
       "        vertical-align: top;\n",
       "    }\n",
       "\n",
       "    .dataframe thead th {\n",
       "        text-align: right;\n",
       "    }\n",
       "</style>\n",
       "<table border=\"1\" class=\"dataframe\">\n",
       "  <thead>\n",
       "    <tr style=\"text-align: right;\">\n",
       "      <th></th>\n",
       "      <th>Customer ID</th>\n",
       "      <th>Sales</th>\n",
       "    </tr>\n",
       "  </thead>\n",
       "  <tbody>\n",
       "    <tr>\n",
       "      <th>0</th>\n",
       "      <td>3075</td>\n",
       "      <td>123745.62</td>\n",
       "    </tr>\n",
       "    <tr>\n",
       "      <th>1</th>\n",
       "      <td>308</td>\n",
       "      <td>89269.70</td>\n",
       "    </tr>\n",
       "    <tr>\n",
       "      <th>2</th>\n",
       "      <td>2571</td>\n",
       "      <td>86540.75</td>\n",
       "    </tr>\n",
       "    <tr>\n",
       "      <th>3</th>\n",
       "      <td>2107</td>\n",
       "      <td>83651.70</td>\n",
       "    </tr>\n",
       "    <tr>\n",
       "      <th>4</th>\n",
       "      <td>553</td>\n",
       "      <td>81296.39</td>\n",
       "    </tr>\n",
       "    <tr>\n",
       "      <th>5</th>\n",
       "      <td>1733</td>\n",
       "      <td>78243.60</td>\n",
       "    </tr>\n",
       "    <tr>\n",
       "      <th>6</th>\n",
       "      <td>640</td>\n",
       "      <td>69118.00</td>\n",
       "    </tr>\n",
       "    <tr>\n",
       "      <th>7</th>\n",
       "      <td>1999</td>\n",
       "      <td>61610.60</td>\n",
       "    </tr>\n",
       "    <tr>\n",
       "      <th>8</th>\n",
       "      <td>2867</td>\n",
       "      <td>61298.98</td>\n",
       "    </tr>\n",
       "    <tr>\n",
       "      <th>9</th>\n",
       "      <td>349</td>\n",
       "      <td>58947.41</td>\n",
       "    </tr>\n",
       "  </tbody>\n",
       "</table>\n",
       "</div>"
      ],
      "text/plain": [
       "   Customer ID      Sales\n",
       "0         3075  123745.62\n",
       "1          308   89269.70\n",
       "2         2571   86540.75\n",
       "3         2107   83651.70\n",
       "4          553   81296.39\n",
       "5         1733   78243.60\n",
       "6          640   69118.00\n",
       "7         1999   61610.60\n",
       "8         2867   61298.98\n",
       "9          349   58947.41"
      ]
     },
     "execution_count": 82,
     "metadata": {},
     "output_type": "execute_result"
    }
   ],
   "source": [
    "top_10_customers = customer_sales.sort_values('Sales', ascending=False).iloc[:10,:]\n",
    "top_10_customers = top_10_customers[['Customer ID', 'Sales']]\n",
    "top_10_customers.reset_index(drop=True, inplace=True)\n",
    "top_10_customers"
   ]
  },
  {
   "cell_type": "markdown",
   "id": "a84b49fb",
   "metadata": {},
   "source": [
    "### Q3: Create a Bar chart showing the profit in terms of Product Sub Category"
   ]
  },
  {
   "cell_type": "markdown",
   "id": "6fe64881",
   "metadata": {},
   "source": [
    "#### Group by Product Sub-Category, sum up Profit by each groupm"
   ]
  },
  {
   "cell_type": "code",
   "execution_count": 85,
   "id": "78e5490a",
   "metadata": {},
   "outputs": [
    {
     "data": {
      "text/plain": [
       "Product Sub-Category\n",
       "Appliances                        121651.391380\n",
       "Binders and Binder Accessories    226572.523042\n",
       "Bookcases                          -7708.748564\n",
       "Chairs & Chairmats                165348.882760\n",
       "Computer Peripherals               87917.842513\n",
       "Copiers and Fax                   129156.684030\n",
       "Envelopes                          46133.223840\n",
       "Labels                             17775.320505\n",
       "Office Furnishings                 92209.225867\n",
       "Office Machines                   168072.833340\n",
       "Paper                              35361.621738\n",
       "Pens & Art Supplies                 1195.902840\n",
       "Rubber Bands                       -2841.722459\n",
       "Scissors, Rulers and Trimmers      -1936.849120\n",
       "Storage & Organization              8078.804727\n",
       "Tables                            -72495.061875\n",
       "Telephones and Communication      297950.524866\n",
       "Name: Profit, dtype: float64"
      ]
     },
     "execution_count": 85,
     "metadata": {},
     "output_type": "execute_result"
    }
   ],
   "source": [
    "profit_per_category = data.groupby('Product Sub-Category').sum('Profit')['Profit']\n",
    "profit_per_category"
   ]
  },
  {
   "cell_type": "markdown",
   "id": "d896d523",
   "metadata": {},
   "source": [
    "#### Plot Bar Chart: Product Sub-Category v/s Profit"
   ]
  },
  {
   "cell_type": "code",
   "execution_count": 86,
   "id": "ed66113f",
   "metadata": {},
   "outputs": [
    {
     "data": {
      "text/plain": [
       "Index(['Appliances', 'Binders and Binder Accessories', 'Bookcases',\n",
       "       'Chairs & Chairmats', 'Computer Peripherals', 'Copiers and Fax',\n",
       "       'Envelopes', 'Labels', 'Office Furnishings', 'Office Machines', 'Paper',\n",
       "       'Pens & Art Supplies', 'Rubber Bands', 'Scissors, Rulers and Trimmers',\n",
       "       'Storage & Organization', 'Tables', 'Telephones and Communication'],\n",
       "      dtype='object', name='Product Sub-Category')"
      ]
     },
     "execution_count": 86,
     "metadata": {},
     "output_type": "execute_result"
    }
   ],
   "source": [
    "y_prod_sub_cat = profit_per_category.index\n",
    "y_prod_sub_cat"
   ]
  },
  {
   "cell_type": "code",
   "execution_count": 87,
   "id": "ad4a4e9c",
   "metadata": {},
   "outputs": [
    {
     "data": {
      "text/plain": [
       "array([121651.39138   , 226572.523042  ,  -7708.748564  , 165348.88276   ,\n",
       "        87917.8425126 , 129156.68403   ,  46133.22384   ,  17775.320505  ,\n",
       "        92209.2258668 , 168072.8333396 ,  35361.6217376 ,   1195.9028398 ,\n",
       "        -2841.7224594 ,  -1936.84912   ,   8078.8047268 , -72495.06187475,\n",
       "       297950.5248656 ])"
      ]
     },
     "execution_count": 87,
     "metadata": {},
     "output_type": "execute_result"
    }
   ],
   "source": [
    "x_profit = profit_per_category.values\n",
    "x_profit"
   ]
  },
  {
   "cell_type": "code",
   "execution_count": 88,
   "id": "31e527dc",
   "metadata": {},
   "outputs": [
    {
     "data": {
      "image/png": "[encoded data removed]",
      "text/plain": [
       "<Figure size 432x288 with 1 Axes>"
      ]
     },
     "metadata": {
      "needs_background": "light"
     },
     "output_type": "display_data"
    }
   ],
   "source": [
    "plt.barh(y_prod_sub_cat, x_profit)\n",
    "plt.xlabel('Profits')\n",
    "plt.ylabel('Product Sub-Category')\n",
    "plt.show()"
   ]
  },
  {
   "cell_type": "markdown",
   "id": "96b401d7",
   "metadata": {},
   "source": [
    "#### Color coding the profits and loss in the bar chart"
   ]
  },
  {
   "cell_type": "code",
   "execution_count": 95,
   "id": "2255513d",
   "metadata": {},
   "outputs": [
    {
     "data": {
      "text/plain": [
       "Product Sub-Category\n",
       "Appliances                        g\n",
       "Binders and Binder Accessories    g\n",
       "Bookcases                         r\n",
       "Chairs & Chairmats                g\n",
       "Computer Peripherals              g\n",
       "Copiers and Fax                   g\n",
       "Envelopes                         g\n",
       "Labels                            g\n",
       "Office Furnishings                g\n",
       "Office Machines                   g\n",
       "Paper                             g\n",
       "Pens & Art Supplies               g\n",
       "Rubber Bands                      r\n",
       "Scissors, Rulers and Trimmers     r\n",
       "Storage & Organization            g\n",
       "Tables                            r\n",
       "Telephones and Communication      g\n",
       "Name: Profit, dtype: object"
      ]
     },
     "execution_count": 95,
     "metadata": {},
     "output_type": "execute_result"
    }
   ],
   "source": [
    "color = profit_per_category.copy()\n",
    "\n",
    "def color_code(x):\n",
    "    if x < 0: return 'r'\n",
    "    return 'g'\n",
    "\n",
    "color = color.map(lambda x: color_code(x))\n",
    "color"
   ]
  },
  {
   "cell_type": "code",
   "execution_count": 96,
   "id": "91e9f6dd",
   "metadata": {},
   "outputs": [
    {
     "data": {
      "image/png": "[encoded data removed]",
      "text/plain": [
       "<Figure size 432x288 with 1 Axes>"
      ]
     },
     "metadata": {
      "needs_background": "light"
     },
     "output_type": "display_data"
    }
   ],
   "source": [
    "plt.barh(y_prod_sub_cat, x_profit, color = color.values)\n",
    "plt.xlabel('Profits')\n",
    "plt.ylabel('Product Sub-Category')\n",
    "plt.show()"
   ]
  },
  {
   "cell_type": "markdown",
   "id": "fbc4a241",
   "metadata": {},
   "source": [
    "### Q4: Create a SET of the top 10 Customer and Use it to show the Customer which comes within the SET"
   ]
  },
  {
   "cell_type": "markdown",
   "id": "b576c89d",
   "metadata": {},
   "source": [
    "#### Group by Customer ID, sum on Profit by Customer ID, sort profits in decreasing order and get the top 10 values"
   ]
  },
  {
   "cell_type": "code",
   "execution_count": 124,
   "id": "43af47cc",
   "metadata": {},
   "outputs": [
    {
     "data": {
      "text/html": [
       "<div>\n",
       "<style scoped>\n",
       "    .dataframe tbody tr th:only-of-type {\n",
       "        vertical-align: middle;\n",
       "    }\n",
       "\n",
       "    .dataframe tbody tr th {\n",
       "        vertical-align: top;\n",
       "    }\n",
       "\n",
       "    .dataframe thead th {\n",
       "        text-align: right;\n",
       "    }\n",
       "</style>\n",
       "<table border=\"1\" class=\"dataframe\">\n",
       "  <thead>\n",
       "    <tr style=\"text-align: right;\">\n",
       "      <th></th>\n",
       "      <th>Profit</th>\n",
       "    </tr>\n",
       "    <tr>\n",
       "      <th>Customer ID</th>\n",
       "      <th></th>\n",
       "    </tr>\n",
       "  </thead>\n",
       "  <tbody>\n",
       "    <tr>\n",
       "      <th>2</th>\n",
       "      <td>1.320000</td>\n",
       "    </tr>\n",
       "    <tr>\n",
       "      <th>3</th>\n",
       "      <td>3314.109900</td>\n",
       "    </tr>\n",
       "    <tr>\n",
       "      <th>5</th>\n",
       "      <td>4249.106500</td>\n",
       "    </tr>\n",
       "    <tr>\n",
       "      <th>6</th>\n",
       "      <td>2265.693000</td>\n",
       "    </tr>\n",
       "    <tr>\n",
       "      <th>7</th>\n",
       "      <td>72.992800</td>\n",
       "    </tr>\n",
       "    <tr>\n",
       "      <th>...</th>\n",
       "      <td>...</td>\n",
       "    </tr>\n",
       "    <tr>\n",
       "      <th>3398</th>\n",
       "      <td>2775.197000</td>\n",
       "    </tr>\n",
       "    <tr>\n",
       "      <th>3399</th>\n",
       "      <td>1256.214680</td>\n",
       "    </tr>\n",
       "    <tr>\n",
       "      <th>3400</th>\n",
       "      <td>807.363000</td>\n",
       "    </tr>\n",
       "    <tr>\n",
       "      <th>3402</th>\n",
       "      <td>-1640.029517</td>\n",
       "    </tr>\n",
       "    <tr>\n",
       "      <th>3403</th>\n",
       "      <td>427.547400</td>\n",
       "    </tr>\n",
       "  </tbody>\n",
       "</table>\n",
       "<p>2703 rows × 1 columns</p>\n",
       "</div>"
      ],
      "text/plain": [
       "                  Profit\n",
       "Customer ID             \n",
       "2               1.320000\n",
       "3            3314.109900\n",
       "5            4249.106500\n",
       "6            2265.693000\n",
       "7              72.992800\n",
       "...                  ...\n",
       "3398         2775.197000\n",
       "3399         1256.214680\n",
       "3400          807.363000\n",
       "3402        -1640.029517\n",
       "3403          427.547400\n",
       "\n",
       "[2703 rows x 1 columns]"
      ]
     },
     "execution_count": 124,
     "metadata": {},
     "output_type": "execute_result"
    }
   ],
   "source": [
    "profit_by_customer = pd.DataFrame(data.groupby('Customer ID').sum('Profit')['Profit']\n",
    "profit_by_customer"
   ]
  },
  {
   "cell_type": "code",
   "execution_count": 126,
   "id": "bb801533",
   "metadata": {},
   "outputs": [
    {
     "data": {
      "text/html": [
       "<div>\n",
       "<style scoped>\n",
       "    .dataframe tbody tr th:only-of-type {\n",
       "        vertical-align: middle;\n",
       "    }\n",
       "\n",
       "    .dataframe tbody tr th {\n",
       "        vertical-align: top;\n",
       "    }\n",
       "\n",
       "    .dataframe thead th {\n",
       "        text-align: right;\n",
       "    }\n",
       "</style>\n",
       "<table border=\"1\" class=\"dataframe\">\n",
       "  <thead>\n",
       "    <tr style=\"text-align: right;\">\n",
       "      <th></th>\n",
       "      <th>Customer ID</th>\n",
       "      <th>Profit</th>\n",
       "    </tr>\n",
       "  </thead>\n",
       "  <tbody>\n",
       "    <tr>\n",
       "      <th>0</th>\n",
       "      <td>2</td>\n",
       "      <td>1.320000</td>\n",
       "    </tr>\n",
       "    <tr>\n",
       "      <th>1</th>\n",
       "      <td>3</td>\n",
       "      <td>3314.109900</td>\n",
       "    </tr>\n",
       "    <tr>\n",
       "      <th>2</th>\n",
       "      <td>5</td>\n",
       "      <td>4249.106500</td>\n",
       "    </tr>\n",
       "    <tr>\n",
       "      <th>3</th>\n",
       "      <td>6</td>\n",
       "      <td>2265.693000</td>\n",
       "    </tr>\n",
       "    <tr>\n",
       "      <th>4</th>\n",
       "      <td>7</td>\n",
       "      <td>72.992800</td>\n",
       "    </tr>\n",
       "    <tr>\n",
       "      <th>...</th>\n",
       "      <td>...</td>\n",
       "      <td>...</td>\n",
       "    </tr>\n",
       "    <tr>\n",
       "      <th>2698</th>\n",
       "      <td>3398</td>\n",
       "      <td>2775.197000</td>\n",
       "    </tr>\n",
       "    <tr>\n",
       "      <th>2699</th>\n",
       "      <td>3399</td>\n",
       "      <td>1256.214680</td>\n",
       "    </tr>\n",
       "    <tr>\n",
       "      <th>2700</th>\n",
       "      <td>3400</td>\n",
       "      <td>807.363000</td>\n",
       "    </tr>\n",
       "    <tr>\n",
       "      <th>2701</th>\n",
       "      <td>3402</td>\n",
       "      <td>-1640.029517</td>\n",
       "    </tr>\n",
       "    <tr>\n",
       "      <th>2702</th>\n",
       "      <td>3403</td>\n",
       "      <td>427.547400</td>\n",
       "    </tr>\n",
       "  </tbody>\n",
       "</table>\n",
       "<p>2703 rows × 2 columns</p>\n",
       "</div>"
      ],
      "text/plain": [
       "      Customer ID       Profit\n",
       "0               2     1.320000\n",
       "1               3  3314.109900\n",
       "2               5  4249.106500\n",
       "3               6  2265.693000\n",
       "4               7    72.992800\n",
       "...           ...          ...\n",
       "2698         3398  2775.197000\n",
       "2699         3399  1256.214680\n",
       "2700         3400   807.363000\n",
       "2701         3402 -1640.029517\n",
       "2702         3403   427.547400\n",
       "\n",
       "[2703 rows x 2 columns]"
      ]
     },
     "execution_count": 126,
     "metadata": {},
     "output_type": "execute_result"
    }
   ],
   "source": [
    "profit_by_customer['Customer ID'] = profit_by_customer.index.values\n",
    "profit_by_customer.reset_index(drop=True, inplace=True)\n",
    "profit_by_customer = profit_by_customer[['Customer ID', 'Profit']]\n",
    "profit_by_customer"
   ]
  },
  {
   "cell_type": "code",
   "execution_count": 127,
   "id": "3045764f",
   "metadata": {},
   "outputs": [
    {
     "data": {
      "text/html": [
       "<div>\n",
       "<style scoped>\n",
       "    .dataframe tbody tr th:only-of-type {\n",
       "        vertical-align: middle;\n",
       "    }\n",
       "\n",
       "    .dataframe tbody tr th {\n",
       "        vertical-align: top;\n",
       "    }\n",
       "\n",
       "    .dataframe thead th {\n",
       "        text-align: right;\n",
       "    }\n",
       "</style>\n",
       "<table border=\"1\" class=\"dataframe\">\n",
       "  <thead>\n",
       "    <tr style=\"text-align: right;\">\n",
       "      <th></th>\n",
       "      <th>Customer ID</th>\n",
       "      <th>Profit</th>\n",
       "    </tr>\n",
       "  </thead>\n",
       "  <tbody>\n",
       "    <tr>\n",
       "      <th>0</th>\n",
       "      <td>3397</td>\n",
       "      <td>17536.851156</td>\n",
       "    </tr>\n",
       "    <tr>\n",
       "      <th>1</th>\n",
       "      <td>3302</td>\n",
       "      <td>17306.633400</td>\n",
       "    </tr>\n",
       "    <tr>\n",
       "      <th>2</th>\n",
       "      <td>1733</td>\n",
       "      <td>16432.454100</td>\n",
       "    </tr>\n",
       "    <tr>\n",
       "      <th>3</th>\n",
       "      <td>1569</td>\n",
       "      <td>12511.653300</td>\n",
       "    </tr>\n",
       "    <tr>\n",
       "      <th>4</th>\n",
       "      <td>1118</td>\n",
       "      <td>11820.745900</td>\n",
       "    </tr>\n",
       "    <tr>\n",
       "      <th>5</th>\n",
       "      <td>771</td>\n",
       "      <td>11080.494700</td>\n",
       "    </tr>\n",
       "    <tr>\n",
       "      <th>6</th>\n",
       "      <td>1836</td>\n",
       "      <td>10427.945220</td>\n",
       "    </tr>\n",
       "    <tr>\n",
       "      <th>7</th>\n",
       "      <td>84</td>\n",
       "      <td>9818.766900</td>\n",
       "    </tr>\n",
       "    <tr>\n",
       "      <th>8</th>\n",
       "      <td>693</td>\n",
       "      <td>9700.951052</td>\n",
       "    </tr>\n",
       "    <tr>\n",
       "      <th>9</th>\n",
       "      <td>2107</td>\n",
       "      <td>9289.944500</td>\n",
       "    </tr>\n",
       "  </tbody>\n",
       "</table>\n",
       "</div>"
      ],
      "text/plain": [
       "   Customer ID        Profit\n",
       "0         3397  17536.851156\n",
       "1         3302  17306.633400\n",
       "2         1733  16432.454100\n",
       "3         1569  12511.653300\n",
       "4         1118  11820.745900\n",
       "5          771  11080.494700\n",
       "6         1836  10427.945220\n",
       "7           84   9818.766900\n",
       "8          693   9700.951052\n",
       "9         2107   9289.944500"
      ]
     },
     "execution_count": 127,
     "metadata": {},
     "output_type": "execute_result"
    }
   ],
   "source": [
    "top_10_customer_by_profit = profit_by_customer.sort_values('Profit', ascending=False).iloc[:10,:]\n",
    "top_10_customer_by_profit.reset_index(drop=True, inplace=True)\n",
    "top_10_customer_by_profit"
   ]
  },
  {
   "cell_type": "markdown",
   "id": "3ff4c98d",
   "metadata": {},
   "source": [
    "### Q5: Combine both the SET and use to show the customers who brings both Profit & Revenue"
   ]
  },
  {
   "cell_type": "markdown",
   "id": "a8e3fa87",
   "metadata": {},
   "source": [
    "#### Inner join the 2 sets on Customer ID"
   ]
  },
  {
   "cell_type": "code",
   "execution_count": 132,
   "id": "fc6589ff",
   "metadata": {
    "scrolled": true
   },
   "outputs": [
    {
     "data": {
      "text/html": [
       "<div>\n",
       "<style scoped>\n",
       "    .dataframe tbody tr th:only-of-type {\n",
       "        vertical-align: middle;\n",
       "    }\n",
       "\n",
       "    .dataframe tbody tr th {\n",
       "        vertical-align: top;\n",
       "    }\n",
       "\n",
       "    .dataframe thead th {\n",
       "        text-align: right;\n",
       "    }\n",
       "</style>\n",
       "<table border=\"1\" class=\"dataframe\">\n",
       "  <thead>\n",
       "    <tr style=\"text-align: right;\">\n",
       "      <th></th>\n",
       "      <th>Sales</th>\n",
       "    </tr>\n",
       "    <tr>\n",
       "      <th>Customer ID</th>\n",
       "      <th></th>\n",
       "    </tr>\n",
       "  </thead>\n",
       "  <tbody>\n",
       "    <tr>\n",
       "      <th>3075</th>\n",
       "      <td>123745.62</td>\n",
       "    </tr>\n",
       "    <tr>\n",
       "      <th>308</th>\n",
       "      <td>89269.70</td>\n",
       "    </tr>\n",
       "    <tr>\n",
       "      <th>2571</th>\n",
       "      <td>86540.75</td>\n",
       "    </tr>\n",
       "    <tr>\n",
       "      <th>2107</th>\n",
       "      <td>83651.70</td>\n",
       "    </tr>\n",
       "    <tr>\n",
       "      <th>553</th>\n",
       "      <td>81296.39</td>\n",
       "    </tr>\n",
       "    <tr>\n",
       "      <th>1733</th>\n",
       "      <td>78243.60</td>\n",
       "    </tr>\n",
       "    <tr>\n",
       "      <th>640</th>\n",
       "      <td>69118.00</td>\n",
       "    </tr>\n",
       "    <tr>\n",
       "      <th>1999</th>\n",
       "      <td>61610.60</td>\n",
       "    </tr>\n",
       "    <tr>\n",
       "      <th>2867</th>\n",
       "      <td>61298.98</td>\n",
       "    </tr>\n",
       "    <tr>\n",
       "      <th>349</th>\n",
       "      <td>58947.41</td>\n",
       "    </tr>\n",
       "  </tbody>\n",
       "</table>\n",
       "</div>"
      ],
      "text/plain": [
       "                 Sales\n",
       "Customer ID           \n",
       "3075         123745.62\n",
       "308           89269.70\n",
       "2571          86540.75\n",
       "2107          83651.70\n",
       "553           81296.39\n",
       "1733          78243.60\n",
       "640           69118.00\n",
       "1999          61610.60\n",
       "2867          61298.98\n",
       "349           58947.41"
      ]
     },
     "execution_count": 132,
     "metadata": {},
     "output_type": "execute_result"
    }
   ],
   "source": [
    "# Customer ID as index\n",
    "top_10_customer_copy = top_10_customers.copy()\n",
    "top_10_customer_copy.index = top_10_customer_copy['Customer ID']\n",
    "top_10_customer_copy.drop(columns='Customer ID', inplace=True)\n",
    "top_10_customer_copy"
   ]
  },
  {
   "cell_type": "code",
   "execution_count": 133,
   "id": "1349ebaa",
   "metadata": {},
   "outputs": [
    {
     "data": {
      "text/html": [
       "<div>\n",
       "<style scoped>\n",
       "    .dataframe tbody tr th:only-of-type {\n",
       "        vertical-align: middle;\n",
       "    }\n",
       "\n",
       "    .dataframe tbody tr th {\n",
       "        vertical-align: top;\n",
       "    }\n",
       "\n",
       "    .dataframe thead th {\n",
       "        text-align: right;\n",
       "    }\n",
       "</style>\n",
       "<table border=\"1\" class=\"dataframe\">\n",
       "  <thead>\n",
       "    <tr style=\"text-align: right;\">\n",
       "      <th></th>\n",
       "      <th>Profit</th>\n",
       "    </tr>\n",
       "    <tr>\n",
       "      <th>Customer ID</th>\n",
       "      <th></th>\n",
       "    </tr>\n",
       "  </thead>\n",
       "  <tbody>\n",
       "    <tr>\n",
       "      <th>3397</th>\n",
       "      <td>17536.851156</td>\n",
       "    </tr>\n",
       "    <tr>\n",
       "      <th>3302</th>\n",
       "      <td>17306.633400</td>\n",
       "    </tr>\n",
       "    <tr>\n",
       "      <th>1733</th>\n",
       "      <td>16432.454100</td>\n",
       "    </tr>\n",
       "    <tr>\n",
       "      <th>1569</th>\n",
       "      <td>12511.653300</td>\n",
       "    </tr>\n",
       "    <tr>\n",
       "      <th>1118</th>\n",
       "      <td>11820.745900</td>\n",
       "    </tr>\n",
       "    <tr>\n",
       "      <th>771</th>\n",
       "      <td>11080.494700</td>\n",
       "    </tr>\n",
       "    <tr>\n",
       "      <th>1836</th>\n",
       "      <td>10427.945220</td>\n",
       "    </tr>\n",
       "    <tr>\n",
       "      <th>84</th>\n",
       "      <td>9818.766900</td>\n",
       "    </tr>\n",
       "    <tr>\n",
       "      <th>693</th>\n",
       "      <td>9700.951052</td>\n",
       "    </tr>\n",
       "    <tr>\n",
       "      <th>2107</th>\n",
       "      <td>9289.944500</td>\n",
       "    </tr>\n",
       "  </tbody>\n",
       "</table>\n",
       "</div>"
      ],
      "text/plain": [
       "                   Profit\n",
       "Customer ID              \n",
       "3397         17536.851156\n",
       "3302         17306.633400\n",
       "1733         16432.454100\n",
       "1569         12511.653300\n",
       "1118         11820.745900\n",
       "771          11080.494700\n",
       "1836         10427.945220\n",
       "84            9818.766900\n",
       "693           9700.951052\n",
       "2107          9289.944500"
      ]
     },
     "execution_count": 133,
     "metadata": {},
     "output_type": "execute_result"
    }
   ],
   "source": [
    "# Customer ID as index\n",
    "top_10_customer_by_profit_copy = top_10_customer_by_profit.copy()\n",
    "top_10_customer_by_profit_copy.index = top_10_customer_by_profit_copy['Customer ID']\n",
    "top_10_customer_by_profit_copy.drop(columns='Customer ID', inplace=True)\n",
    "top_10_customer_by_profit_copy"
   ]
  },
  {
   "cell_type": "code",
   "execution_count": 166,
   "id": "6e275cee",
   "metadata": {},
   "outputs": [
    {
     "data": {
      "text/html": [
       "<div>\n",
       "<style scoped>\n",
       "    .dataframe tbody tr th:only-of-type {\n",
       "        vertical-align: middle;\n",
       "    }\n",
       "\n",
       "    .dataframe tbody tr th {\n",
       "        vertical-align: top;\n",
       "    }\n",
       "\n",
       "    .dataframe thead th {\n",
       "        text-align: right;\n",
       "    }\n",
       "</style>\n",
       "<table border=\"1\" class=\"dataframe\">\n",
       "  <thead>\n",
       "    <tr style=\"text-align: right;\">\n",
       "      <th></th>\n",
       "      <th>Customer ID</th>\n",
       "      <th>Sales</th>\n",
       "      <th>Profit</th>\n",
       "    </tr>\n",
       "  </thead>\n",
       "  <tbody>\n",
       "    <tr>\n",
       "      <th>0</th>\n",
       "      <td>2107</td>\n",
       "      <td>83651.7</td>\n",
       "      <td>9289.9445</td>\n",
       "    </tr>\n",
       "    <tr>\n",
       "      <th>1</th>\n",
       "      <td>1733</td>\n",
       "      <td>78243.6</td>\n",
       "      <td>16432.4541</td>\n",
       "    </tr>\n",
       "  </tbody>\n",
       "</table>\n",
       "</div>"
      ],
      "text/plain": [
       "   Customer ID    Sales      Profit\n",
       "0         2107  83651.7   9289.9445\n",
       "1         1733  78243.6  16432.4541"
      ]
     },
     "execution_count": 166,
     "metadata": {},
     "output_type": "execute_result"
    }
   ],
   "source": [
    "result = []\n",
    "\n",
    "for index, row in top_10_customer_copy.iterrows():\n",
    "    if index in top_10_customer_by_profit_copy.index.values:\n",
    "        new_row = {'Customer ID': index, 'Sales': row['Sales'], 'Profit': top_10_customer_by_profit_copy.loc[index, 'Profit']}\n",
    "        result.append(new_row)\n",
    "\n",
    "final = pd.DataFrame(result)\n",
    "final"
   ]
  }
 ],
 "metadata": {
  "kernelspec": {
   "display_name": "Python 3 (ipykernel)",
   "language": "python",
   "name": "python3"
  },
  "language_info": {
   "codemirror_mode": {
    "name": "ipython",
    "version": 3
   },
   "file_extension": ".py",
   "mimetype": "text/x-python",
   "name": "python",
   "nbconvert_exporter": "python",
   "pygments_lexer": "ipython3",
   "version": "3.9.7"
  }
 },
 "nbformat": 4,
 "nbformat_minor": 5
}
